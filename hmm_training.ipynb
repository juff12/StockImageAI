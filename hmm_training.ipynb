{
 "cells": [
  {
   "cell_type": "code",
   "execution_count": 1,
   "metadata": {},
   "outputs": [],
   "source": [
    "import pandas as pd\n",
    "import numpy as np\n",
    "from hmmlearn import hmm"
   ]
  },
  {
   "cell_type": "code",
   "execution_count": 2,
   "metadata": {},
   "outputs": [],
   "source": [
    "def forward(V, A, B, init_dist):\n",
    "    alpha = np.zeros((V.shape[0], A.shape[0]))\n",
    "    alpha[0, :] = init_dist * B[:, V[0]]\n",
    "\n",
    "    for t in range(1, V.shape[0]):\n",
    "        for j in range(A.shape[0]):\n",
    "            # matrix computation steps\n",
    "            alpha[t, j] = alpha[t - 1] @ A[:, j] * B[j, V[t]]\n",
    "    return alpha"
   ]
  },
  {
   "cell_type": "code",
   "execution_count": 4,
   "metadata": {},
   "outputs": [],
   "source": [
    "def backward(V, A, B):\n",
    "    beta = np.zeros((V.shape[0], A.shape[0]))\n",
    "\n",
    "    # setting beta(T) = 1\n",
    "    beta[V.shape[0] - 1] = np.ones((A.shape[0]))\n",
    "    \n",
    "    # loop in backawrd way fro T-1 to\n",
    "    # actual loop T-2 to 0 (python indexing)\n",
    "    for t in range(V.shape[0] - 2, -1, -1):\n",
    "        for j in range(A.shape[0]):\n",
    "            beta[t, j] = (beta[t + 1] * B[:, V[t + 1]]) @ A[j, :]\n",
    "    return beta"
   ]
  },
  {
   "cell_type": "code",
   "execution_count": 3,
   "metadata": {},
   "outputs": [],
   "source": [
    "def baum_welch(V, A, B, init_dist, n_iter=100):\n",
    "    M = A.shape[0]\n",
    "    T = len(V)\n",
    "    for n in range(n_iter):\n",
    "        # estimation\n",
    "        alpha = forward(V, A, B, init_dist)\n",
    "        beta = backward(V, A, B)\n",
    "\n",
    "        xi = np.zeros((M, M, T -1))\n",
    "        for t in range(T - 1):\n",
    "            # joint prob of observed data up to time t @ transistion prob * close prob as t+1 #\n",
    "            # joint prob of observed data from time t+1\n",
    "            denominator = (alpha[t, :].T @ A * B[:, V[t + 1]].T) @ beta[t + 1, :]\n",
    "            for i in range(M):\n",
    "                numerator = alpha[t, i] * A[i, :] * B[:, V[t + 1]].T * beta[t + 1, :].T\n",
    "                xi[i, :, t] = numerator / denominator\n",
    "                \n",
    "        gamma = np.sum(xi, axis=1)\n",
    "        ## maximization step\n",
    "        A = np.sum(xi, 2) / np.sum(gamma, axis=1).reshape((-1, 1))\n",
    "        \n",
    "        # add additional T'th element in gamma\n",
    "        gamma = np.hstack((gamma, np.sum(xi[:, :, T - 2], axis=0).reshape((-1, 1))))\n",
    "        \n",
    "        K = B.shape[1]\n",
    "        denominator = np.sum(gamma, axis=1)\n",
    "        for l in range(K):\n",
    "            B[:, l] = np.sum(gamma[:, V == 1], axis=1)\n",
    "        \n",
    "        B = np.divide(B, denominator.reshape((-1, 1)))\n",
    "    return A, B"
   ]
  },
  {
   "cell_type": "code",
   "execution_count": 4,
   "metadata": {},
   "outputs": [
    {
     "name": "stderr",
     "output_type": "stream",
     "text": [
      "\n",
      "KeyboardInterrupt\n",
      "\n"
     ]
    }
   ],
   "source": [
    "# where A is a day the stock closes high\n",
    "# where B is a day the stock closes lower\n",
    "\n",
    "\n",
    "ticker = 'aapl'\n",
    "bartime = '1_day'\n",
    "\n",
    "data = pd.read_csv('data/formatted/'+ticker +'/'+ticker+'_'+bartime+'_data_formatted.csv')\n",
    "\n",
    "V = data['Visible'].values\n",
    "\n",
    "# transistionn probabilities\n",
    "A = np.ones((2, 2))\n",
    "A = A / np.sum(A, axis=1)\n",
    "\n",
    "# emmision probabilities\n",
    "B = np.array(((1, 3, 5), (2, 4, 6)))\n",
    "B = B / np.sum(B, axis=1).reshape((-1, 1))\n",
    "\n",
    "# equal probabilities for the initial distribution\n",
    "init_dist = np.arraay((0.5, 0.5))\n",
    "\n",
    "n_iter = 100\n",
    "\n",
    "a_model, b_model = baum_welch(V.copy(), A.copy(), B.copy(), init_dist.copy(), n_iter=n_iter)\n",
    "print(f'Custom model A is \\n{a_model} \\n \\nCustom model B is \\n{b_model}')"
   ]
  },
  {
   "cell_type": "code",
   "execution_count": 10,
   "metadata": {},
   "outputs": [
    {
     "ename": "TypeError",
     "evalue": "Cannot perform 'rand_' with a dtyped [bool] array and scalar of type [bool]",
     "output_type": "error",
     "traceback": [
      "\u001b[1;31m---------------------------------------------------------------------------\u001b[0m",
      "\u001b[1;31mTypeError\u001b[0m                                 Traceback (most recent call last)",
      "File \u001b[1;32mc:\\Users\\Jon\\anaconda3\\Lib\\site-packages\\pandas\\core\\ops\\array_ops.py:311\u001b[0m, in \u001b[0;36mna_logical_op\u001b[1;34m(x, y, op)\u001b[0m\n\u001b[0;32m    302\u001b[0m \u001b[38;5;28;01mtry\u001b[39;00m:\n\u001b[0;32m    303\u001b[0m     \u001b[38;5;66;03m# For exposition, write:\u001b[39;00m\n\u001b[0;32m    304\u001b[0m     \u001b[38;5;66;03m#  yarr = isinstance(y, np.ndarray)\u001b[39;00m\n\u001b[1;32m   (...)\u001b[0m\n\u001b[0;32m    309\u001b[0m     \u001b[38;5;66;03m# Then Cases where this goes through without raising include:\u001b[39;00m\n\u001b[0;32m    310\u001b[0m     \u001b[38;5;66;03m#  (xint or xbool) and (yint or bool)\u001b[39;00m\n\u001b[1;32m--> 311\u001b[0m     result \u001b[38;5;241m=\u001b[39m op(x, y)\n\u001b[0;32m    312\u001b[0m \u001b[38;5;28;01mexcept\u001b[39;00m \u001b[38;5;167;01mTypeError\u001b[39;00m:\n",
      "File \u001b[1;32mc:\\Users\\Jon\\anaconda3\\Lib\\site-packages\\pandas\\core\\roperator.py:54\u001b[0m, in \u001b[0;36mrand_\u001b[1;34m(left, right)\u001b[0m\n\u001b[0;32m     53\u001b[0m \u001b[38;5;28;01mdef\u001b[39;00m \u001b[38;5;21mrand_\u001b[39m(left, right):\n\u001b[1;32m---> 54\u001b[0m     \u001b[38;5;28;01mreturn\u001b[39;00m operator\u001b[38;5;241m.\u001b[39mand_(right, left)\n",
      "\u001b[1;31mTypeError\u001b[0m: unsupported operand type(s) for &: 'datetime.datetime' and 'bool'",
      "\nDuring handling of the above exception, another exception occurred:\n",
      "\u001b[1;31mValueError\u001b[0m                                Traceback (most recent call last)",
      "File \u001b[1;32mc:\\Users\\Jon\\anaconda3\\Lib\\site-packages\\pandas\\core\\ops\\array_ops.py:325\u001b[0m, in \u001b[0;36mna_logical_op\u001b[1;34m(x, y, op)\u001b[0m\n\u001b[0;32m    324\u001b[0m \u001b[38;5;28;01mtry\u001b[39;00m:\n\u001b[1;32m--> 325\u001b[0m     result \u001b[38;5;241m=\u001b[39m libops\u001b[38;5;241m.\u001b[39mscalar_binop(x, y, op)\n\u001b[0;32m    326\u001b[0m \u001b[38;5;28;01mexcept\u001b[39;00m (\n\u001b[0;32m    327\u001b[0m     \u001b[38;5;167;01mTypeError\u001b[39;00m,\n\u001b[0;32m    328\u001b[0m     \u001b[38;5;167;01mValueError\u001b[39;00m,\n\u001b[1;32m   (...)\u001b[0m\n\u001b[0;32m    331\u001b[0m     \u001b[38;5;167;01mNotImplementedError\u001b[39;00m,\n\u001b[0;32m    332\u001b[0m ) \u001b[38;5;28;01mas\u001b[39;00m err:\n",
      "File \u001b[1;32mc:\\Users\\Jon\\anaconda3\\Lib\\site-packages\\pandas\\_libs\\ops.pyx:180\u001b[0m, in \u001b[0;36mpandas._libs.ops.scalar_binop\u001b[1;34m()\u001b[0m\n",
      "\u001b[1;31mValueError\u001b[0m: Buffer dtype mismatch, expected 'Python object' but got 'bool'",
      "\nThe above exception was the direct cause of the following exception:\n",
      "\u001b[1;31mTypeError\u001b[0m                                 Traceback (most recent call last)",
      "Cell \u001b[1;32mIn[10], line 13\u001b[0m\n\u001b[0;32m     10\u001b[0m train_x \u001b[38;5;241m=\u001b[39m data\u001b[38;5;241m.\u001b[39mloc[mask]\n\u001b[0;32m     12\u001b[0m \u001b[38;5;66;03m# dates for texting\u001b[39;00m\n\u001b[1;32m---> 13\u001b[0m mask \u001b[38;5;241m=\u001b[39m (data[\u001b[38;5;124m'\u001b[39m\u001b[38;5;124mdate\u001b[39m\u001b[38;5;124m'\u001b[39m] \u001b[38;5;241m>\u001b[39m\u001b[38;5;241m=\u001b[39m datetime(\u001b[38;5;241m2023\u001b[39m,\u001b[38;5;241m1\u001b[39m,\u001b[38;5;241m1\u001b[39m) \u001b[38;5;241m&\u001b[39m (data[\u001b[38;5;124m'\u001b[39m\u001b[38;5;124mdate\u001b[39m\u001b[38;5;124m'\u001b[39m] \u001b[38;5;241m<\u001b[39m datetime(\u001b[38;5;241m2024\u001b[39m,\u001b[38;5;241m1\u001b[39m,\u001b[38;5;241m1\u001b[39m)))\n\u001b[0;32m     14\u001b[0m test_x \u001b[38;5;241m=\u001b[39m data\u001b[38;5;241m.\u001b[39mloc[mask]\n\u001b[0;32m     16\u001b[0m \u001b[38;5;66;03m# sample = data[len(data)-11:len(data)-1]\u001b[39;00m\n\u001b[0;32m     17\u001b[0m \u001b[38;5;66;03m# temp_actual = data[len(data)-1:]\u001b[39;00m\n\u001b[0;32m     18\u001b[0m \u001b[38;5;66;03m# actual = temp_actual[['close']].values\u001b[39;00m\n\u001b[0;32m     19\u001b[0m \u001b[38;5;66;03m# open = temp_actual[['open']].values\u001b[39;00m\n\u001b[0;32m     20\u001b[0m \u001b[38;5;66;03m# sample = sample[[\"frac\", \"fracHigh\", 'fracLow']].values\u001b[39;00m\n\u001b[0;32m     21\u001b[0m \u001b[38;5;66;03m# data = data[:len(data)-11]\u001b[39;00m\n",
      "File \u001b[1;32mc:\\Users\\Jon\\anaconda3\\Lib\\site-packages\\pandas\\core\\ops\\common.py:81\u001b[0m, in \u001b[0;36m_unpack_zerodim_and_defer.<locals>.new_method\u001b[1;34m(self, other)\u001b[0m\n\u001b[0;32m     77\u001b[0m             \u001b[38;5;28;01mreturn\u001b[39;00m \u001b[38;5;28mNotImplemented\u001b[39m\n\u001b[0;32m     79\u001b[0m other \u001b[38;5;241m=\u001b[39m item_from_zerodim(other)\n\u001b[1;32m---> 81\u001b[0m \u001b[38;5;28;01mreturn\u001b[39;00m method(\u001b[38;5;28mself\u001b[39m, other)\n",
      "File \u001b[1;32mc:\\Users\\Jon\\anaconda3\\Lib\\site-packages\\pandas\\core\\arraylike.py:74\u001b[0m, in \u001b[0;36mOpsMixin.__rand__\u001b[1;34m(self, other)\u001b[0m\n\u001b[0;32m     72\u001b[0m \u001b[38;5;129m@unpack_zerodim_and_defer\u001b[39m(\u001b[38;5;124m\"\u001b[39m\u001b[38;5;124m__rand__\u001b[39m\u001b[38;5;124m\"\u001b[39m)\n\u001b[0;32m     73\u001b[0m \u001b[38;5;28;01mdef\u001b[39;00m \u001b[38;5;21m__rand__\u001b[39m(\u001b[38;5;28mself\u001b[39m, other):\n\u001b[1;32m---> 74\u001b[0m     \u001b[38;5;28;01mreturn\u001b[39;00m \u001b[38;5;28mself\u001b[39m\u001b[38;5;241m.\u001b[39m_logical_method(other, roperator\u001b[38;5;241m.\u001b[39mrand_)\n",
      "File \u001b[1;32mc:\\Users\\Jon\\anaconda3\\Lib\\site-packages\\pandas\\core\\series.py:6107\u001b[0m, in \u001b[0;36mSeries._logical_method\u001b[1;34m(self, other, op)\u001b[0m\n\u001b[0;32m   6104\u001b[0m lvalues \u001b[38;5;241m=\u001b[39m \u001b[38;5;28mself\u001b[39m\u001b[38;5;241m.\u001b[39m_values\n\u001b[0;32m   6105\u001b[0m rvalues \u001b[38;5;241m=\u001b[39m extract_array(other, extract_numpy\u001b[38;5;241m=\u001b[39m\u001b[38;5;28;01mTrue\u001b[39;00m, extract_range\u001b[38;5;241m=\u001b[39m\u001b[38;5;28;01mTrue\u001b[39;00m)\n\u001b[1;32m-> 6107\u001b[0m res_values \u001b[38;5;241m=\u001b[39m ops\u001b[38;5;241m.\u001b[39mlogical_op(lvalues, rvalues, op)\n\u001b[0;32m   6108\u001b[0m \u001b[38;5;28;01mreturn\u001b[39;00m \u001b[38;5;28mself\u001b[39m\u001b[38;5;241m.\u001b[39m_construct_result(res_values, name\u001b[38;5;241m=\u001b[39mres_name)\n",
      "File \u001b[1;32mc:\\Users\\Jon\\anaconda3\\Lib\\site-packages\\pandas\\core\\ops\\array_ops.py:401\u001b[0m, in \u001b[0;36mlogical_op\u001b[1;34m(left, right, op)\u001b[0m\n\u001b[0;32m    397\u001b[0m \u001b[38;5;66;03m# For int vs int `^`, `|`, `&` are bitwise operators and return\u001b[39;00m\n\u001b[0;32m    398\u001b[0m \u001b[38;5;66;03m#   integer dtypes.  Otherwise these are boolean ops\u001b[39;00m\n\u001b[0;32m    399\u001b[0m filler \u001b[38;5;241m=\u001b[39m fill_int \u001b[38;5;28;01mif\u001b[39;00m is_self_int_dtype \u001b[38;5;129;01mand\u001b[39;00m is_other_int_dtype \u001b[38;5;28;01melse\u001b[39;00m fill_bool\n\u001b[1;32m--> 401\u001b[0m res_values \u001b[38;5;241m=\u001b[39m na_logical_op(lvalues, rvalues, op)\n\u001b[0;32m    402\u001b[0m \u001b[38;5;66;03m# error: Cannot call function of unknown type\u001b[39;00m\n\u001b[0;32m    403\u001b[0m res_values \u001b[38;5;241m=\u001b[39m filler(res_values)  \u001b[38;5;66;03m# type: ignore[operator]\u001b[39;00m\n",
      "File \u001b[1;32mc:\\Users\\Jon\\anaconda3\\Lib\\site-packages\\pandas\\core\\ops\\array_ops.py:334\u001b[0m, in \u001b[0;36mna_logical_op\u001b[1;34m(x, y, op)\u001b[0m\n\u001b[0;32m    326\u001b[0m         \u001b[38;5;28;01mexcept\u001b[39;00m (\n\u001b[0;32m    327\u001b[0m             \u001b[38;5;167;01mTypeError\u001b[39;00m,\n\u001b[0;32m    328\u001b[0m             \u001b[38;5;167;01mValueError\u001b[39;00m,\n\u001b[1;32m   (...)\u001b[0m\n\u001b[0;32m    331\u001b[0m             \u001b[38;5;167;01mNotImplementedError\u001b[39;00m,\n\u001b[0;32m    332\u001b[0m         ) \u001b[38;5;28;01mas\u001b[39;00m err:\n\u001b[0;32m    333\u001b[0m             typ \u001b[38;5;241m=\u001b[39m \u001b[38;5;28mtype\u001b[39m(y)\u001b[38;5;241m.\u001b[39m\u001b[38;5;18m__name__\u001b[39m\n\u001b[1;32m--> 334\u001b[0m             \u001b[38;5;28;01mraise\u001b[39;00m \u001b[38;5;167;01mTypeError\u001b[39;00m(\n\u001b[0;32m    335\u001b[0m                 \u001b[38;5;124mf\u001b[39m\u001b[38;5;124m\"\u001b[39m\u001b[38;5;124mCannot perform \u001b[39m\u001b[38;5;124m'\u001b[39m\u001b[38;5;132;01m{\u001b[39;00mop\u001b[38;5;241m.\u001b[39m\u001b[38;5;18m__name__\u001b[39m\u001b[38;5;132;01m}\u001b[39;00m\u001b[38;5;124m'\u001b[39m\u001b[38;5;124m with a dtyped [\u001b[39m\u001b[38;5;132;01m{\u001b[39;00mx\u001b[38;5;241m.\u001b[39mdtype\u001b[38;5;132;01m}\u001b[39;00m\u001b[38;5;124m] array \u001b[39m\u001b[38;5;124m\"\u001b[39m\n\u001b[0;32m    336\u001b[0m                 \u001b[38;5;124mf\u001b[39m\u001b[38;5;124m\"\u001b[39m\u001b[38;5;124mand scalar of type [\u001b[39m\u001b[38;5;132;01m{\u001b[39;00mtyp\u001b[38;5;132;01m}\u001b[39;00m\u001b[38;5;124m]\u001b[39m\u001b[38;5;124m\"\u001b[39m\n\u001b[0;32m    337\u001b[0m             ) \u001b[38;5;28;01mfrom\u001b[39;00m \u001b[38;5;21;01merr\u001b[39;00m\n\u001b[0;32m    339\u001b[0m \u001b[38;5;28;01mreturn\u001b[39;00m result\u001b[38;5;241m.\u001b[39mreshape(x\u001b[38;5;241m.\u001b[39mshape)\n",
      "\u001b[1;31mTypeError\u001b[0m: Cannot perform 'rand_' with a dtyped [bool] array and scalar of type [bool]"
     ]
    }
   ],
   "source": [
    "from datetime import datetime\n",
    "ticker = 'aapl'\n",
    "bartime = '1_day'\n",
    "\n",
    "data = pd.read_csv('data/formatted/'+ticker +'/'+ticker+'_'+bartime+'_data_formatted1.csv')\n",
    "# convert to datatime for pandas\n",
    "data['date'] = pd.to_datetime(data['date'])\n",
    "# dates for training\n",
    "mask = (data['date'] >= datetime(2022,1,1)) & (data['date'] < datetime(2023,1,1))\n",
    "train_x = data.loc[mask]\n",
    "\n",
    "# dates for texting\n",
    "mask = (data['date'] >= datetime(2023,1,1) & (data['date'] < datetime(2024,1,1)))\n",
    "test_x = data.loc[mask]\n",
    "\n",
    "# sample = data[len(data)-11:len(data)-1]\n",
    "# temp_actual = data[len(data)-1:]\n",
    "# actual = temp_actual[['close']].values\n",
    "# open = temp_actual[['open']].values\n",
    "# sample = sample[[\"frac\", \"fracHigh\", 'fracLow']].values\n",
    "# data = data[:len(data)-11]\n",
    "\n",
    "X_train = train_x[[\"frac\", \"fracHigh\", 'fracLow']].values\n",
    "#X_test = test_x[[\"frac\", \"fracHigh\", 'fracLow']].values\n",
    "\n",
    "model = hmm.GMMHMM(n_components=4, n_mix=5, covariance_type='diag', algorithm='map', n_iter=1000, tol=0.001)\n",
    "\n",
    "model.fit(X_train)\n"
   ]
  },
  {
   "cell_type": "code",
   "execution_count": 29,
   "metadata": {},
   "outputs": [
    {
     "data": {
      "text/plain": [
       "(108.8616376140969,\n",
       " array([[2.66071380e-237, 1.97330801e-063, 1.00000000e+000,\n",
       "         0.00000000e+000],\n",
       "        [1.41300072e-003, 8.81691737e-006, 1.13562965e-001,\n",
       "         8.85015217e-001],\n",
       "        [5.89635442e-007, 7.82704615e-001, 1.47559275e-009,\n",
       "         2.17294794e-001],\n",
       "        [3.29190758e-007, 9.99989673e-001, 7.82806208e-006,\n",
       "         2.17002562e-006],\n",
       "        [1.08966882e-006, 9.99524799e-001, 4.71571166e-010,\n",
       "         4.74110889e-004],\n",
       "        [8.84103034e-007, 9.98100340e-001, 7.73457101e-011,\n",
       "         1.89877604e-003],\n",
       "        [1.98812837e-007, 9.99698204e-001, 9.18899778e-013,\n",
       "         3.01597622e-004],\n",
       "        [1.72113634e-008, 9.99985294e-001, 4.63372172e-009,\n",
       "         1.46836665e-005],\n",
       "        [1.59283804e-007, 9.99040885e-001, 1.37356827e-008,\n",
       "         9.58941937e-004],\n",
       "        [2.69593847e-007, 9.99577744e-001, 3.38773191e-007,\n",
       "         4.21647506e-004]]))"
      ]
     },
     "execution_count": 29,
     "metadata": {},
     "output_type": "execute_result"
    }
   ],
   "source": [
    "model._score_log(sample, compute_posteriors=True)"
   ]
  },
  {
   "cell_type": "code",
   "execution_count": 31,
   "metadata": {},
   "outputs": [
    {
     "ename": "ValueError",
     "evalue": "shapes (4,4) and (4,5,3) not aligned: 4 (dim 1) != 5 (dim 1)",
     "output_type": "error",
     "traceback": [
      "\u001b[1;31m---------------------------------------------------------------------------\u001b[0m",
      "\u001b[1;31mValueError\u001b[0m                                Traceback (most recent call last)",
      "Cell \u001b[1;32mIn[31], line 1\u001b[0m\n\u001b[1;32m----> 1\u001b[0m np\u001b[38;5;241m.\u001b[39mdot(model\u001b[38;5;241m.\u001b[39mtransmat_, model\u001b[38;5;241m.\u001b[39mmeans_)\n",
      "File \u001b[1;32m<__array_function__ internals>:200\u001b[0m, in \u001b[0;36mdot\u001b[1;34m(*args, **kwargs)\u001b[0m\n",
      "\u001b[1;31mValueError\u001b[0m: shapes (4,4) and (4,5,3) not aligned: 4 (dim 1) != 5 (dim 1)"
     ]
    }
   ],
   "source": [
    "np.dot(model.transmat_, model.means_)"
   ]
  },
  {
   "cell_type": "code",
   "execution_count": null,
   "metadata": {},
   "outputs": [],
   "source": [
    "predicted = open + (1 + )"
   ]
  },
  {
   "cell_type": "code",
   "execution_count": null,
   "metadata": {},
   "outputs": [],
   "source": [
    "print(f'Actual: {actual}')\n",
    "print(f\"Predicted: {predicted}\")"
   ]
  },
  {
   "cell_type": "code",
   "execution_count": 21,
   "metadata": {},
   "outputs": [],
   "source": [
    "mus = np.ravel(model.means_)\n",
    "sigmas = np.ravel(np.sqrt([np.diag(c) for c in model.covars_]))\n",
    "P = model.transmat_"
   ]
  },
  {
   "cell_type": "code",
   "execution_count": 22,
   "metadata": {},
   "outputs": [
    {
     "data": {
      "text/plain": [
       "(array([-0.00097607,  0.00633874,  0.00954233,  0.02270028,  0.02996964,\n",
       "         0.00153333,  0.00765781,  0.01214655,  0.00930795,  0.01265985,\n",
       "         0.01504232,  0.00584332,  0.00051106,  0.0150246 ,  0.00522944,\n",
       "        -0.03114459,  0.00461514,  0.03891249, -0.00636369,  0.00673624,\n",
       "         0.01486101, -0.02052167,  0.00576056,  0.0253592 , -0.00150041,\n",
       "         0.01670008,  0.01785331, -0.01499147,  0.0026931 ,  0.01903992,\n",
       "         0.00262125,  0.00842143,  0.00247449,  0.01367419,  0.01633276,\n",
       "         0.00141065,  0.00019386,  0.00483611,  0.00614406,  0.00803846,\n",
       "         0.00973076,  0.00317381, -0.00770635,  0.00303558,  0.01191297,\n",
       "         0.02982582,  0.03219572,  0.00798509,  0.03513165,  0.03742329,\n",
       "         0.00147377,  0.01064343,  0.01496689,  0.0015771 ,  0.0183992 ,\n",
       "         0.02196445,  0.00413292,  0.05225697,  0.05981192,  0.00334742]),\n",
       " array([0.00398459, 0.00331113, 0.00307748, 0.00858344, 0.00393862,\n",
       "        0.0027658 , 0.00177811, 0.00318036, 0.00191489, 0.00404413,\n",
       "        0.00328757, 0.00069664]))"
      ]
     },
     "execution_count": 22,
     "metadata": {},
     "output_type": "execute_result"
    }
   ],
   "source": [
    "mus, sigmas"
   ]
  },
  {
   "cell_type": "code",
   "execution_count": 23,
   "metadata": {},
   "outputs": [
    {
     "data": {
      "text/plain": [
       "array([[2.84609519e-01, 4.41900366e-01, 9.75394201e-02, 1.75950695e-01],\n",
       "       [3.13115899e-01, 4.91545819e-01, 1.16812216e-04, 1.95221471e-01],\n",
       "       [3.43347367e-02, 3.80227149e-02, 9.27642548e-01, 2.04783048e-11],\n",
       "       [5.80573138e-01, 2.16155784e-01, 1.34839879e-15, 2.03271078e-01]])"
      ]
     },
     "execution_count": 23,
     "metadata": {},
     "output_type": "execute_result"
    }
   ],
   "source": [
    "P"
   ]
  },
  {
   "cell_type": "code",
   "execution_count": 32,
   "metadata": {},
   "outputs": [],
   "source": [
    "import pickle"
   ]
  },
  {
   "cell_type": "code",
   "execution_count": 34,
   "metadata": {},
   "outputs": [],
   "source": [
    "model = pickle.load(open('model_v2.pkl', 'rb'))"
   ]
  },
  {
   "cell_type": "code",
   "execution_count": 35,
   "metadata": {},
   "outputs": [
    {
     "data": {
      "text/plain": [
       "0    0.263458\n",
       "1    0.277325\n",
       "2    0.336052\n",
       "3    0.123165\n",
       "Name: count, dtype: float64"
      ]
     },
     "execution_count": 35,
     "metadata": {},
     "output_type": "execute_result"
    }
   ],
   "source": [
    "_, hidden_states = model.decode(X)\n",
    "\n",
    "s = pd.Series(hidden_states).value_counts().sort_index()\n",
    "s / s.sum()"
   ]
  },
  {
   "cell_type": "code",
   "execution_count": 36,
   "metadata": {},
   "outputs": [
    {
     "name": "stdout",
     "output_type": "stream",
     "text": [
      "Guassian Distribution Means:\n",
      "\n",
      "[[[-0.00097607  0.00633874  0.00954233]\n",
      "  [ 0.02270028  0.02996964  0.00153333]\n",
      "  [ 0.00765781  0.01214655  0.00930795]\n",
      "  [ 0.01265985  0.01504232  0.00584332]\n",
      "  [ 0.00051106  0.0150246   0.00522944]]\n",
      "\n",
      " [[-0.03114459  0.00461514  0.03891249]\n",
      "  [-0.00636369  0.00673624  0.01486101]\n",
      "  [-0.02052167  0.00576056  0.0253592 ]\n",
      "  [-0.00150041  0.01670008  0.01785331]\n",
      "  [-0.01499147  0.0026931   0.01903992]]\n",
      "\n",
      " [[ 0.00262125  0.00842143  0.00247449]\n",
      "  [ 0.01367419  0.01633276  0.00141065]\n",
      "  [ 0.00019386  0.00483611  0.00614406]\n",
      "  [ 0.00803846  0.00973076  0.00317381]\n",
      "  [-0.00770635  0.00303558  0.01191297]]\n",
      "\n",
      " [[ 0.02982582  0.03219572  0.00798509]\n",
      "  [ 0.03513165  0.03742329  0.00147377]\n",
      "  [ 0.01064343  0.01496689  0.0015771 ]\n",
      "  [ 0.0183992   0.02196445  0.00413292]\n",
      "  [ 0.05225697  0.05981192  0.00334742]]]\n"
     ]
    }
   ],
   "source": [
    "# guassian dist means\n",
    "print('Guassian Distribution Means:\\n')\n",
    "print(model.means_)"
   ]
  },
  {
   "cell_type": "code",
   "execution_count": 1,
   "metadata": {},
   "outputs": [
    {
     "ename": "NameError",
     "evalue": "name 'hidden_states' is not defined",
     "output_type": "error",
     "traceback": [
      "\u001b[1;31m---------------------------------------------------------------------------\u001b[0m",
      "\u001b[1;31mNameError\u001b[0m                                 Traceback (most recent call last)",
      "Cell \u001b[1;32mIn[1], line 5\u001b[0m\n\u001b[0;32m      3\u001b[0m plt\u001b[38;5;241m.\u001b[39mfigure(figsize \u001b[38;5;241m=\u001b[39m (\u001b[38;5;241m15\u001b[39m, \u001b[38;5;241m10\u001b[39m))\n\u001b[0;32m      4\u001b[0m \u001b[38;5;28;01mfor\u001b[39;00m i \u001b[38;5;129;01min\u001b[39;00m (\u001b[38;5;241m0\u001b[39m,\u001b[38;5;241m1\u001b[39m,\u001b[38;5;241m2\u001b[39m,\u001b[38;5;241m3\u001b[39m):\n\u001b[1;32m----> 5\u001b[0m     want \u001b[38;5;241m=\u001b[39m (hidden_states \u001b[38;5;241m==\u001b[39m i)\n\u001b[0;32m      6\u001b[0m     x \u001b[38;5;241m=\u001b[39m data[\u001b[38;5;124m\"\u001b[39m\u001b[38;5;124mdate\u001b[39m\u001b[38;5;124m\"\u001b[39m]\u001b[38;5;241m.\u001b[39miloc[want]\n\u001b[0;32m      7\u001b[0m     y \u001b[38;5;241m=\u001b[39m data[\u001b[38;5;124m\"\u001b[39m\u001b[38;5;124mclose\u001b[39m\u001b[38;5;124m\"\u001b[39m]\u001b[38;5;241m.\u001b[39miloc[want]\n",
      "\u001b[1;31mNameError\u001b[0m: name 'hidden_states' is not defined"
     ]
    },
    {
     "data": {
      "text/plain": [
       "<Figure size 1500x1000 with 0 Axes>"
      ]
     },
     "metadata": {},
     "output_type": "display_data"
    }
   ],
   "source": [
    "import matplotlib.pyplot as plt\n",
    "\n",
    "plt.figure(figsize = (15, 10))\n",
    "for i in (0,1,2,3):\n",
    "    want = (hidden_states == i)\n",
    "    x = data[\"date\"].iloc[want]\n",
    "    y = data[\"close\"].iloc[want]\n",
    "    plt.plot(x, y, '.')\n",
    "plt.legend((0,1,2,3), fontsize=16)\n",
    "plt.grid(True)\n",
    "plt.xlabel(\"datetime\", fontsize=16)\n",
    "plt.ylabel(\"close price $\", fontsize=16)\n",
    "plt.xticks([])\n",
    "plt.show()"
   ]
  },
  {
   "cell_type": "code",
   "execution_count": 27,
   "metadata": {},
   "outputs": [],
   "source": [
    "import pickle"
   ]
  },
  {
   "cell_type": "code",
   "execution_count": 28,
   "metadata": {},
   "outputs": [],
   "source": [
    "with open(\"model_v2.pkl\", \"wb\") as file: pickle.dump(model, file)"
   ]
  },
  {
   "cell_type": "code",
   "execution_count": 163,
   "metadata": {},
   "outputs": [
    {
     "data": {
      "image/png": "[encoded data removed]",
      "text/plain": [
       "<Figure size 640x480 with 1 Axes>"
      ]
     },
     "metadata": {},
     "output_type": "display_data"
    }
   ],
   "source": [
    "plt.plot(data['date'], data['close'])\n",
    "plt.show()"
   ]
  },
  {
   "cell_type": "code",
   "execution_count": null,
   "metadata": {},
   "outputs": [],
   "source": [
    "# compare to hmmlearn\n",
    "model = hmm.MultinomialHMM(n_components=4, algorithm='map', n_iter=n_iter, int_params=\"\", params=\"te\", tol=0)\n",
    "model.startprob_ = init_dist\n",
    "model.transmat_ = A\n",
    "model.emissionprob_ = B\n",
    "\n",
    "model.fit([V])\n",
    "print(f'hmmlearn A \\n{model.transmat_}')\n",
    "print(f'hmmlearn B \\n{model.emissionprob_}')"
   ]
  },
  {
   "cell_type": "code",
   "execution_count": null,
   "metadata": {},
   "outputs": [],
   "source": [
    "print(f'A difference example implementation and hmmlearn \\n{a_model - (model.transmat_)}')\n",
    "print(f'B difference example implementation and hmmlearn \\n{b_model - (model.emissionprob_)}')\n",
    "print(f'\\nA example implementation and hmmlearn allclose: {np.allclose(a_model, model.transmat_, atol=0.1)}')\n",
    "print(f'B example implementation and hmmlearn allclose: {np.allclose(b_model, model.emissionprob_, atol=0.1)}')"
   ]
  }
 ],
 "metadata": {
  "kernelspec": {
   "display_name": "base",
   "language": "python",
   "name": "python3"
  },
  "language_info": {
   "codemirror_mode": {
    "name": "ipython",
    "version": 3
   },
   "file_extension": ".py",
   "mimetype": "text/x-python",
   "name": "python",
   "nbconvert_exporter": "python",
   "pygments_lexer": "ipython3",
   "version": "3.11.5"
  }
 },
 "nbformat": 4,
 "nbformat_minor": 2
}
