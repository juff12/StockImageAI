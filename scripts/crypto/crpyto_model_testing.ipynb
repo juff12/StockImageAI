{
 "cells": [
  {
   "cell_type": "code",
   "execution_count": 1,
   "metadata": {},
   "outputs": [],
   "source": [
    "import numpy as np\n",
    "import random\n",
    "import pandas as pd \n",
    "from pylab import mpl, plt\n",
    "\n",
    "import math, time\n",
    "import itertools\n",
    "import datetime\n",
    "from operator import itemgetter\n",
    "from sklearn.metrics import mean_squared_error\n",
    "from sklearn.model_selection import train_test_split\n",
    "from sklearn.preprocessing import MinMaxScaler\n",
    "from math import sqrt\n",
    "import torch\n",
    "import torch.nn as nn\n",
    "from torch.autograd import Variable"
   ]
  },
  {
   "cell_type": "code",
   "execution_count": 2,
   "metadata": {},
   "outputs": [],
   "source": [
    "device = (\n",
    "    \"cuda\"\n",
    "    if torch.cuda.is_available()\n",
    "    else \"mps\"\n",
    "    if torch.backends.mps.is_available()\n",
    "    else \"cpu\"\n",
    ")"
   ]
  },
  {
   "cell_type": "code",
   "execution_count": 3,
   "metadata": {},
   "outputs": [
    {
     "name": "stdout",
     "output_type": "stream",
     "text": [
      "Using cuda device\n"
     ]
    }
   ],
   "source": [
    "print(f\"Using {device} device\")"
   ]
  },
  {
   "cell_type": "code",
   "execution_count": 42,
   "metadata": {},
   "outputs": [],
   "source": [
    "training_set = pd.read_csv('data/crypto/data/formatted/btcusd/btcusd_4_hour_data_formatted.csv')\n",
    "training_set = training_set[['date','close']]\n",
    "\n",
    "# set the dates to datetiem\n",
    "training_set['date'] = pd.to_datetime(training_set['date'])\n",
    "training_set.set_index('date', inplace=True)"
   ]
  },
  {
   "cell_type": "code",
   "execution_count": 43,
   "metadata": {},
   "outputs": [
    {
     "name": "stdout",
     "output_type": "stream",
     "text": [
      "<class 'pandas.core.frame.DataFrame'>\n",
      "DatetimeIndex: 13536 entries, 2017-12-31 19:00:00 to 2024-03-05 15:00:00\n",
      "Data columns (total 1 columns):\n",
      " #   Column  Non-Null Count  Dtype  \n",
      "---  ------  --------------  -----  \n",
      " 0   close   13536 non-null  float64\n",
      "dtypes: float64(1)\n",
      "memory usage: 211.5 KB\n"
     ]
    }
   ],
   "source": [
    "training_set.info()"
   ]
  },
  {
   "cell_type": "code",
   "execution_count": 44,
   "metadata": {},
   "outputs": [
    {
     "data": {
      "text/html": [
       "<div>\n",
       "<style scoped>\n",
       "    .dataframe tbody tr th:only-of-type {\n",
       "        vertical-align: middle;\n",
       "    }\n",
       "\n",
       "    .dataframe tbody tr th {\n",
       "        vertical-align: top;\n",
       "    }\n",
       "\n",
       "    .dataframe thead th {\n",
       "        text-align: right;\n",
       "    }\n",
       "</style>\n",
       "<table border=\"1\" class=\"dataframe\">\n",
       "  <thead>\n",
       "    <tr style=\"text-align: right;\">\n",
       "      <th></th>\n",
       "      <th>close</th>\n",
       "    </tr>\n",
       "    <tr>\n",
       "      <th>date</th>\n",
       "      <th></th>\n",
       "    </tr>\n",
       "  </thead>\n",
       "  <tbody>\n",
       "    <tr>\n",
       "      <th>2017-12-31 19:00:00</th>\n",
       "      <td>13398.00</td>\n",
       "    </tr>\n",
       "    <tr>\n",
       "      <th>2017-12-31 23:00:00</th>\n",
       "      <td>13624.00</td>\n",
       "    </tr>\n",
       "    <tr>\n",
       "      <th>2018-01-01 03:00:00</th>\n",
       "      <td>13279.99</td>\n",
       "    </tr>\n",
       "    <tr>\n",
       "      <th>2018-01-01 07:00:00</th>\n",
       "      <td>13215.72</td>\n",
       "    </tr>\n",
       "    <tr>\n",
       "      <th>2018-01-01 11:00:00</th>\n",
       "      <td>13298.99</td>\n",
       "    </tr>\n",
       "  </tbody>\n",
       "</table>\n",
       "</div>"
      ],
      "text/plain": [
       "                        close\n",
       "date                         \n",
       "2017-12-31 19:00:00  13398.00\n",
       "2017-12-31 23:00:00  13624.00\n",
       "2018-01-01 03:00:00  13279.99\n",
       "2018-01-01 07:00:00  13215.72\n",
       "2018-01-01 11:00:00  13298.99"
      ]
     },
     "execution_count": 44,
     "metadata": {},
     "output_type": "execute_result"
    }
   ],
   "source": [
    "training_set.head()"
   ]
  },
  {
   "cell_type": "code",
   "execution_count": 45,
   "metadata": {},
   "outputs": [],
   "source": [
    "from sklearn.preprocessing import MinMaxScaler\n",
    "scaler = MinMaxScaler(feature_range=(-1, 1))\n",
    "training_set['close'] = scaler.fit_transform(training_set['close'].values.reshape(-1,1))"
   ]
  },
  {
   "cell_type": "code",
   "execution_count": 46,
   "metadata": {},
   "outputs": [
    {
     "name": "stdout",
     "output_type": "stream",
     "text": [
      "                        close\n",
      "date                         \n",
      "2017-12-31 19:00:00 -0.686847\n",
      "2017-12-31 23:00:00 -0.679931\n",
      "2018-01-01 03:00:00 -0.690458\n",
      "2018-01-01 07:00:00 -0.692425\n",
      "2018-01-01 11:00:00 -0.689877\n",
      "...                       ...\n",
      "2024-03-04 23:00:00  0.929342\n",
      "2024-03-05 03:00:00  0.944319\n",
      "2024-03-05 07:00:00  0.946907\n",
      "2024-03-05 11:00:00  0.780275\n",
      "2024-03-05 15:00:00  0.873201\n",
      "\n",
      "[13536 rows x 1 columns]\n"
     ]
    }
   ],
   "source": [
    "print(training_set)"
   ]
  },
  {
   "cell_type": "code",
   "execution_count": 4,
   "metadata": {},
   "outputs": [],
   "source": [
    "# function to create train, test data given stock data and sequence length\n",
    "def load_data(stock, look_back):\n",
    "    data_raw = stock.values # convert to numpy array\n",
    "    data = []\n",
    "    \n",
    "    # create all possible sequences of length look_back\n",
    "    for index in range(len(data_raw) - look_back): \n",
    "        data.append(data_raw[index: index + look_back])\n",
    "    \n",
    "    data = np.array(data)\n",
    "\n",
    "    test_set_size = int(np.round(0.2*data.shape[0]))\n",
    "    train_set_size = data.shape[0] - (test_set_size)\n",
    "\n",
    "    x_train = data[:train_set_size,:-1,:]\n",
    "    y_train = data[:train_set_size,-1,:]\n",
    "    \n",
    "    x_test = data[train_set_size:,:-1]\n",
    "    y_test = data[train_set_size:,-1,:]\n",
    "\n",
    "    return [x_train, y_train, x_test, y_test]"
   ]
  },
  {
   "cell_type": "code",
   "execution_count": 48,
   "metadata": {},
   "outputs": [
    {
     "name": "stdout",
     "output_type": "stream",
     "text": [
      "x_train.shape =  (10781, 59, 1)\n",
      "y_train.shape =  (10781, 1)\n",
      "x_test.shape =  (2695, 59, 1)\n",
      "y_test.shape =  (2695, 1)\n"
     ]
    }
   ],
   "source": [
    "look_back = 60\n",
    "x_train, y_train, x_test, y_test = load_data(training_set, look_back)\n",
    "print('x_train.shape = ',x_train.shape)\n",
    "print('y_train.shape = ',y_train.shape)\n",
    "print('x_test.shape = ',x_test.shape)\n",
    "print('y_test.shape = ',y_test.shape)"
   ]
  },
  {
   "cell_type": "code",
   "execution_count": 49,
   "metadata": {},
   "outputs": [],
   "source": [
    "# make training and test sets in torch\n",
    "x_train = torch.from_numpy(x_train).type(torch.Tensor)\n",
    "x_test = torch.from_numpy(x_test).type(torch.Tensor)\n",
    "y_train = torch.from_numpy(y_train).type(torch.Tensor)\n",
    "y_test = torch.from_numpy(y_test).type(torch.Tensor)"
   ]
  },
  {
   "cell_type": "code",
   "execution_count": 50,
   "metadata": {},
   "outputs": [
    {
     "data": {
      "text/plain": [
       "(torch.Size([10781, 1]), torch.Size([10781, 59, 1]))"
      ]
     },
     "execution_count": 50,
     "metadata": {},
     "output_type": "execute_result"
    }
   ],
   "source": [
    "y_train.size(),x_train.size()"
   ]
  },
  {
   "cell_type": "code",
   "execution_count": 5,
   "metadata": {},
   "outputs": [],
   "source": [
    "# Build model\n",
    "#####################\n",
    "input_dim = 1\n",
    "hidden_dim = 32\n",
    "num_layers = 2 \n",
    "output_dim = 1\n",
    "\n",
    "\n",
    "# Here we define our model as a class\n",
    "class LSTM(nn.Module):\n",
    "    def __init__(self, input_dim, hidden_dim, num_layers, output_dim):\n",
    "        super(LSTM, self).__init__()\n",
    "        # Hidden dimensions\n",
    "        self.hidden_dim = hidden_dim\n",
    "\n",
    "        # Number of hidden layers\n",
    "        self.num_layers = num_layers\n",
    "\n",
    "        # batch_first=True causes input/output tensors to be of shape\n",
    "        # (batch_dim, seq_dim, feature_dim)\n",
    "        self.lstm = nn.LSTM(input_dim, hidden_dim, num_layers, batch_first=True)\n",
    "\n",
    "        # Readout layer\n",
    "        self.fc = nn.Linear(hidden_dim, output_dim)\n",
    "\n",
    "    def forward(self, x):\n",
    "        # Initialize hidden state with zeros\n",
    "        h0 = torch.zeros(self.num_layers, x.size(0), self.hidden_dim).requires_grad_()\n",
    "\n",
    "        # Initialize cell state\n",
    "        c0 = torch.zeros(self.num_layers, x.size(0), self.hidden_dim).requires_grad_()\n",
    "\n",
    "        # We need to detach as we are doing truncated backpropagation through time (BPTT)\n",
    "        # If we don't, we'll backprop all the way to the start even after going through another batch\n",
    "        out, (hn, cn) = self.lstm(x, (h0.detach(), c0.detach()))\n",
    "\n",
    "        # Index hidden state of last time step\n",
    "        # out.size() --> 100, 32, 100\n",
    "        # out[:, -1, :] --> 100, 100 --> just want last time step hidden states! \n",
    "        out = self.fc(out[:, -1, :]) \n",
    "        # out.size() --> 100, 10\n",
    "        return out"
   ]
  },
  {
   "cell_type": "code",
   "execution_count": 20,
   "metadata": {},
   "outputs": [
    {
     "name": "stdout",
     "output_type": "stream",
     "text": [
      "LSTM(\n",
      "  (lstm): LSTM(1, 32, num_layers=2, batch_first=True)\n",
      "  (fc): Linear(in_features=32, out_features=1, bias=True)\n",
      ")\n",
      "10\n",
      "torch.Size([128, 1])\n",
      "torch.Size([128, 32])\n",
      "torch.Size([128])\n",
      "torch.Size([128])\n",
      "torch.Size([128, 32])\n",
      "torch.Size([128, 32])\n",
      "torch.Size([128])\n",
      "torch.Size([128])\n",
      "torch.Size([1, 32])\n",
      "torch.Size([1])\n"
     ]
    }
   ],
   "source": [
    "model = LSTM(input_dim=input_dim, hidden_dim=hidden_dim, output_dim=output_dim, num_layers=num_layers)\n",
    "\n",
    "loss_fn = torch.nn.MSELoss()\n",
    "\n",
    "optimiser = torch.optim.Adam(model.parameters(), lr=0.01)\n",
    "print(model)\n",
    "print(len(list(model.parameters())))\n",
    "for i in range(len(list(model.parameters()))):\n",
    "    print(list(model.parameters())[i].size())"
   ]
  },
  {
   "cell_type": "code",
   "execution_count": 21,
   "metadata": {},
   "outputs": [
    {
     "name": "stdout",
     "output_type": "stream",
     "text": [
      "Epoch  10 MSE:  0.04270583763718605\n",
      "Epoch  20 MSE:  0.011658517643809319\n",
      "Epoch  30 MSE:  0.004279175773262978\n",
      "Epoch  40 MSE:  0.002725455444306135\n",
      "Epoch  50 MSE:  0.0009314512717537582\n",
      "Epoch  60 MSE:  0.0007477910839952528\n",
      "Epoch  70 MSE:  0.0005316733731888235\n",
      "Epoch  80 MSE:  0.00048618094297125936\n",
      "Epoch  90 MSE:  0.00047589861787855625\n"
     ]
    }
   ],
   "source": [
    "# Train model\n",
    "#####################\n",
    "num_epochs = 100\n",
    "hist = np.zeros(num_epochs)\n",
    "\n",
    "# Number of steps to unroll\n",
    "seq_dim =look_back-1  \n",
    "\n",
    "for t in range(num_epochs):\n",
    "    # Initialise hidden state\n",
    "    # Don't do this if you want your LSTM to be stateful\n",
    "    #model.hidden = model.init_hidden()\n",
    "    \n",
    "    # Forward pass\n",
    "    y_train_pred = model(x_train)\n",
    "\n",
    "    loss = loss_fn(y_train_pred, y_train)\n",
    "    if t % 10 == 0 and t !=0:\n",
    "        print(\"Epoch \", t, \"MSE: \", loss.item())\n",
    "    hist[t] = loss.item()\n",
    "\n",
    "    # Zero out gradient, else they will accumulate between epochs\n",
    "    optimiser.zero_grad()\n",
    "\n",
    "    # Backward pass\n",
    "    loss.backward()\n",
    "\n",
    "    # Update parameters\n",
    "    optimiser.step()"
   ]
  },
  {
   "cell_type": "code",
   "execution_count": 22,
   "metadata": {},
   "outputs": [
    {
     "data": {
      "image/png": "[encoded data removed]",
      "text/plain": [
       "<Figure size 640x480 with 1 Axes>"
      ]
     },
     "metadata": {},
     "output_type": "display_data"
    }
   ],
   "source": [
    "plt.plot(hist, label=\"Training loss\")\n",
    "plt.legend()\n",
    "plt.show()"
   ]
  },
  {
   "cell_type": "code",
   "execution_count": 23,
   "metadata": {},
   "outputs": [
    {
     "data": {
      "text/plain": [
       "torch.Size([10781, 1])"
      ]
     },
     "execution_count": 23,
     "metadata": {},
     "output_type": "execute_result"
    }
   ],
   "source": [
    "np.shape(y_train_pred)"
   ]
  },
  {
   "cell_type": "code",
   "execution_count": 24,
   "metadata": {},
   "outputs": [
    {
     "name": "stdout",
     "output_type": "stream",
     "text": [
      "Train Score: 703.71 RMSE\n",
      "Test Score: 621.25 RMSE\n"
     ]
    }
   ],
   "source": [
    "# make predictions\n",
    "y_test_pred = model(x_test)\n",
    "\n",
    "# invert predictions\n",
    "y_train_pred = scaler.inverse_transform(y_train_pred.detach().numpy())\n",
    "y_train = scaler.inverse_transform(y_train.detach().numpy())\n",
    "y_test_pred = scaler.inverse_transform(y_test_pred.detach().numpy())\n",
    "y_test = scaler.inverse_transform(y_test.detach().numpy())\n",
    "\n",
    "# calculate root mean squared error\n",
    "trainScore = math.sqrt(mean_squared_error(y_train[:,0], y_train_pred[:,0]))\n",
    "print('Train Score: %.2f RMSE' % (trainScore))\n",
    "testScore = math.sqrt(mean_squared_error(y_test[:,0], y_test_pred[:,0]))\n",
    "print('Test Score: %.2f RMSE' % (testScore))"
   ]
  },
  {
   "cell_type": "code",
   "execution_count": 25,
   "metadata": {},
   "outputs": [
    {
     "data": {
      "image/png": "[encoded data removed]",
      "text/plain": [
       "<Figure size 1500x600 with 1 Axes>"
      ]
     },
     "metadata": {},
     "output_type": "display_data"
    }
   ],
   "source": [
    "# Visualising the results\n",
    "figure, axes = plt.subplots(figsize=(15, 6))\n",
    "axes.xaxis_date()\n",
    "\n",
    "axes.plot(training_set[len(training_set)-len(y_test):].index, y_test, color = 'red', label = 'Real BTC Price')\n",
    "axes.plot(training_set[len(training_set)-len(y_test):].index, y_test_pred, color = 'blue', label = 'Predicted BTC Price')\n",
    "#axes.xticks(np.arange(0,394,50))\n",
    "plt.title('BTC Price Prediction')\n",
    "plt.xlabel('Time')\n",
    "plt.ylabel('BTC Price')\n",
    "plt.legend()\n",
    "plt.savefig('btc_pred.png')\n",
    "plt.show()"
   ]
  },
  {
   "cell_type": "markdown",
   "metadata": {},
   "source": [
    "Test with most recent data from coinbase"
   ]
  },
  {
   "cell_type": "code",
   "execution_count": 168,
   "metadata": {},
   "outputs": [],
   "source": [
    "import pickle"
   ]
  },
  {
   "cell_type": "code",
   "execution_count": 221,
   "metadata": {},
   "outputs": [],
   "source": [
    "btc_4hr_data = pickle.load(open('coinbase_now.pkl','rb'))"
   ]
  },
  {
   "cell_type": "code",
   "execution_count": 222,
   "metadata": {},
   "outputs": [],
   "source": [
    "btc_4hr_data = btc_4hr_data[['date','close']]"
   ]
  },
  {
   "cell_type": "code",
   "execution_count": 223,
   "metadata": {},
   "outputs": [
    {
     "data": {
      "text/html": [
       "<div>\n",
       "<style scoped>\n",
       "    .dataframe tbody tr th:only-of-type {\n",
       "        vertical-align: middle;\n",
       "    }\n",
       "\n",
       "    .dataframe tbody tr th {\n",
       "        vertical-align: top;\n",
       "    }\n",
       "\n",
       "    .dataframe thead th {\n",
       "        text-align: right;\n",
       "    }\n",
       "</style>\n",
       "<table border=\"1\" class=\"dataframe\">\n",
       "  <thead>\n",
       "    <tr style=\"text-align: right;\">\n",
       "      <th></th>\n",
       "      <th>date</th>\n",
       "      <th>close</th>\n",
       "    </tr>\n",
       "  </thead>\n",
       "  <tbody>\n",
       "    <tr>\n",
       "      <th>0</th>\n",
       "      <td>2024-02-29 12:00:00</td>\n",
       "      <td>62936.22</td>\n",
       "    </tr>\n",
       "    <tr>\n",
       "      <th>1</th>\n",
       "      <td>2024-02-29 16:00:00</td>\n",
       "      <td>62790.41</td>\n",
       "    </tr>\n",
       "    <tr>\n",
       "      <th>2</th>\n",
       "      <td>2024-02-29 20:00:00</td>\n",
       "      <td>61649.07</td>\n",
       "    </tr>\n",
       "    <tr>\n",
       "      <th>3</th>\n",
       "      <td>2024-03-01 00:00:00</td>\n",
       "      <td>61179.03</td>\n",
       "    </tr>\n",
       "    <tr>\n",
       "      <th>4</th>\n",
       "      <td>2024-03-01 04:00:00</td>\n",
       "      <td>61111.10</td>\n",
       "    </tr>\n",
       "    <tr>\n",
       "      <th>...</th>\n",
       "      <td>...</td>\n",
       "      <td>...</td>\n",
       "    </tr>\n",
       "    <tr>\n",
       "      <th>69</th>\n",
       "      <td>2024-03-12 00:00:00</td>\n",
       "      <td>72110.98</td>\n",
       "    </tr>\n",
       "    <tr>\n",
       "      <th>70</th>\n",
       "      <td>2024-03-12 04:00:00</td>\n",
       "      <td>71636.99</td>\n",
       "    </tr>\n",
       "    <tr>\n",
       "      <th>71</th>\n",
       "      <td>2024-03-12 08:00:00</td>\n",
       "      <td>72153.11</td>\n",
       "    </tr>\n",
       "    <tr>\n",
       "      <th>72</th>\n",
       "      <td>2024-03-12 12:00:00</td>\n",
       "      <td>72050.43</td>\n",
       "    </tr>\n",
       "    <tr>\n",
       "      <th>73</th>\n",
       "      <td>2024-03-12 16:00:00</td>\n",
       "      <td>71711.25</td>\n",
       "    </tr>\n",
       "  </tbody>\n",
       "</table>\n",
       "<p>74 rows × 2 columns</p>\n",
       "</div>"
      ],
      "text/plain": [
       "                  date     close\n",
       "0  2024-02-29 12:00:00  62936.22\n",
       "1  2024-02-29 16:00:00  62790.41\n",
       "2  2024-02-29 20:00:00  61649.07\n",
       "3  2024-03-01 00:00:00  61179.03\n",
       "4  2024-03-01 04:00:00  61111.10\n",
       "..                 ...       ...\n",
       "69 2024-03-12 00:00:00  72110.98\n",
       "70 2024-03-12 04:00:00  71636.99\n",
       "71 2024-03-12 08:00:00  72153.11\n",
       "72 2024-03-12 12:00:00  72050.43\n",
       "73 2024-03-12 16:00:00  71711.25\n",
       "\n",
       "[74 rows x 2 columns]"
      ]
     },
     "execution_count": 223,
     "metadata": {},
     "output_type": "execute_result"
    }
   ],
   "source": [
    "btc_4hr_data"
   ]
  },
  {
   "cell_type": "code",
   "execution_count": 224,
   "metadata": {},
   "outputs": [],
   "source": [
    "# set the dates to datetime\n",
    "btc_4hr_data.set_index('date',inplace=True)"
   ]
  },
  {
   "cell_type": "code",
   "execution_count": 225,
   "metadata": {},
   "outputs": [
    {
     "data": {
      "text/html": [
       "<div>\n",
       "<style scoped>\n",
       "    .dataframe tbody tr th:only-of-type {\n",
       "        vertical-align: middle;\n",
       "    }\n",
       "\n",
       "    .dataframe tbody tr th {\n",
       "        vertical-align: top;\n",
       "    }\n",
       "\n",
       "    .dataframe thead th {\n",
       "        text-align: right;\n",
       "    }\n",
       "</style>\n",
       "<table border=\"1\" class=\"dataframe\">\n",
       "  <thead>\n",
       "    <tr style=\"text-align: right;\">\n",
       "      <th></th>\n",
       "      <th>close</th>\n",
       "    </tr>\n",
       "    <tr>\n",
       "      <th>date</th>\n",
       "      <th></th>\n",
       "    </tr>\n",
       "  </thead>\n",
       "  <tbody>\n",
       "    <tr>\n",
       "      <th>2024-02-29 12:00:00</th>\n",
       "      <td>62936.22</td>\n",
       "    </tr>\n",
       "    <tr>\n",
       "      <th>2024-02-29 16:00:00</th>\n",
       "      <td>62790.41</td>\n",
       "    </tr>\n",
       "    <tr>\n",
       "      <th>2024-02-29 20:00:00</th>\n",
       "      <td>61649.07</td>\n",
       "    </tr>\n",
       "    <tr>\n",
       "      <th>2024-03-01 00:00:00</th>\n",
       "      <td>61179.03</td>\n",
       "    </tr>\n",
       "    <tr>\n",
       "      <th>2024-03-01 04:00:00</th>\n",
       "      <td>61111.10</td>\n",
       "    </tr>\n",
       "    <tr>\n",
       "      <th>...</th>\n",
       "      <td>...</td>\n",
       "    </tr>\n",
       "    <tr>\n",
       "      <th>2024-03-12 00:00:00</th>\n",
       "      <td>72110.98</td>\n",
       "    </tr>\n",
       "    <tr>\n",
       "      <th>2024-03-12 04:00:00</th>\n",
       "      <td>71636.99</td>\n",
       "    </tr>\n",
       "    <tr>\n",
       "      <th>2024-03-12 08:00:00</th>\n",
       "      <td>72153.11</td>\n",
       "    </tr>\n",
       "    <tr>\n",
       "      <th>2024-03-12 12:00:00</th>\n",
       "      <td>72050.43</td>\n",
       "    </tr>\n",
       "    <tr>\n",
       "      <th>2024-03-12 16:00:00</th>\n",
       "      <td>71711.25</td>\n",
       "    </tr>\n",
       "  </tbody>\n",
       "</table>\n",
       "<p>74 rows × 1 columns</p>\n",
       "</div>"
      ],
      "text/plain": [
       "                        close\n",
       "date                         \n",
       "2024-02-29 12:00:00  62936.22\n",
       "2024-02-29 16:00:00  62790.41\n",
       "2024-02-29 20:00:00  61649.07\n",
       "2024-03-01 00:00:00  61179.03\n",
       "2024-03-01 04:00:00  61111.10\n",
       "...                       ...\n",
       "2024-03-12 00:00:00  72110.98\n",
       "2024-03-12 04:00:00  71636.99\n",
       "2024-03-12 08:00:00  72153.11\n",
       "2024-03-12 12:00:00  72050.43\n",
       "2024-03-12 16:00:00  71711.25\n",
       "\n",
       "[74 rows x 1 columns]"
      ]
     },
     "execution_count": 225,
     "metadata": {},
     "output_type": "execute_result"
    }
   ],
   "source": [
    "btc_4hr_data"
   ]
  },
  {
   "cell_type": "code",
   "execution_count": 226,
   "metadata": {},
   "outputs": [],
   "source": [
    "scaler = MinMaxScaler(feature_range=(-1, 1))\n",
    "btc_4hr_data['close'] = scaler.fit_transform(btc_4hr_data['close'].values.reshape(-1,1))"
   ]
  },
  {
   "cell_type": "code",
   "execution_count": 227,
   "metadata": {},
   "outputs": [],
   "source": [
    "look_back = 60\n",
    "test_data = btc_4hr_data['close'].values\n",
    "data = []\n",
    "\n",
    "# create all possible sequences of length look_back\n",
    "for index in range(len(test_data) - look_back): \n",
    "    data.append(test_data[index: index + look_back])"
   ]
  },
  {
   "cell_type": "code",
   "execution_count": 228,
   "metadata": {},
   "outputs": [],
   "source": [
    "data = np.array(data)"
   ]
  },
  {
   "cell_type": "code",
   "execution_count": 229,
   "metadata": {},
   "outputs": [],
   "source": [
    "x_test = data[:,:-1]"
   ]
  },
  {
   "cell_type": "code",
   "execution_count": 230,
   "metadata": {},
   "outputs": [],
   "source": [
    "x_test = x_test.reshape((14,59,1))"
   ]
  },
  {
   "cell_type": "code",
   "execution_count": 231,
   "metadata": {},
   "outputs": [],
   "source": [
    "y_test = data[:,-1]\n",
    "y_test = y_test.reshape(14,1)"
   ]
  },
  {
   "cell_type": "code",
   "execution_count": 232,
   "metadata": {},
   "outputs": [],
   "source": [
    "# make training and test sets in torch\n",
    "x_test = torch.from_numpy(x_test).type(torch.Tensor)\n",
    "y_test = torch.from_numpy(y_test).type(torch.Tensor)"
   ]
  },
  {
   "cell_type": "code",
   "execution_count": 233,
   "metadata": {},
   "outputs": [
    {
     "data": {
      "text/plain": [
       "(torch.Size([14, 59, 1]), torch.Size([14, 1]))"
      ]
     },
     "execution_count": 233,
     "metadata": {},
     "output_type": "execute_result"
    }
   ],
   "source": [
    "x_test.shape,y_test.shape"
   ]
  },
  {
   "cell_type": "code",
   "execution_count": 234,
   "metadata": {},
   "outputs": [],
   "source": [
    "# make predictions\n",
    "y_test_pred = model(x_test)"
   ]
  },
  {
   "cell_type": "code",
   "execution_count": 235,
   "metadata": {},
   "outputs": [],
   "source": [
    "\n",
    "# invert predictions\n",
    "y_test_pred = scaler.inverse_transform(y_test_pred.detach().numpy())\n",
    "y_test = scaler.inverse_transform(y_test.detach().numpy())"
   ]
  },
  {
   "cell_type": "code",
   "execution_count": 236,
   "metadata": {},
   "outputs": [
    {
     "data": {
      "image/png": "[encoded data removed]",
      "text/plain": [
       "<Figure size 1500x600 with 1 Axes>"
      ]
     },
     "metadata": {},
     "output_type": "display_data"
    }
   ],
   "source": [
    "# Visualising the results\n",
    "figure, axes = plt.subplots(figsize=(15, 6))\n",
    "axes.xaxis_date()\n",
    "\n",
    "axes.plot(btc_4hr_data[len(btc_4hr_data)-len(y_test):].index, y_test, color = 'red', label = 'Real BTC Price')\n",
    "axes.plot(btc_4hr_data[len(btc_4hr_data)-len(y_test):].index, y_test_pred, color = 'blue', label = 'Predicted BTC Price')\n",
    "#axes.xticks(np.arange(0,394,50))\n",
    "plt.title('BTC Price Prediction')\n",
    "plt.xlabel('Time')\n",
    "plt.ylabel('BTC Price')\n",
    "plt.legend()\n",
    "plt.savefig('btc_pred.png')\n",
    "plt.show()"
   ]
  },
  {
   "cell_type": "markdown",
   "metadata": {},
   "source": [
    "## 1 HOUR TESTING MODEL"
   ]
  },
  {
   "cell_type": "code",
   "execution_count": 13,
   "metadata": {},
   "outputs": [],
   "source": [
    "training_set = pd.read_csv('data/crypto/data/formatted/btcusd/btcusd_1_hour_data_formatted.csv')\n",
    "training_set = training_set[['date','close']]\n",
    "#training_set = training_set[len(training_set) // 4:]\n",
    "\n",
    "# set the dates to datetiem\n",
    "training_set['date'] = pd.to_datetime(training_set['date'])\n",
    "training_set.set_index('date', inplace=True)"
   ]
  },
  {
   "cell_type": "code",
   "execution_count": 14,
   "metadata": {},
   "outputs": [],
   "source": [
    "device = (\n",
    "    \"cuda\"\n",
    "    if torch.cuda.is_available()\n",
    "    else \"mps\"\n",
    "    if torch.backends.mps.is_available()\n",
    "    else \"cpu\"\n",
    ")"
   ]
  },
  {
   "cell_type": "code",
   "execution_count": 15,
   "metadata": {},
   "outputs": [
    {
     "name": "stdout",
     "output_type": "stream",
     "text": [
      "Using cuda device\n"
     ]
    }
   ],
   "source": [
    "print(f\"Using {device} device\")"
   ]
  },
  {
   "cell_type": "code",
   "execution_count": 16,
   "metadata": {},
   "outputs": [],
   "source": [
    "scaler = MinMaxScaler(feature_range=(-1, 1))\n",
    "training_set['close'] = scaler.fit_transform(training_set['close'].values.reshape(-1,1))"
   ]
  },
  {
   "cell_type": "code",
   "execution_count": 17,
   "metadata": {},
   "outputs": [
    {
     "name": "stdout",
     "output_type": "stream",
     "text": [
      "x_train.shape =  (43267, 59, 1)\n",
      "y_train.shape =  (43267, 1)\n",
      "x_test.shape =  (10817, 59, 1)\n",
      "y_test.shape =  (10817, 1)\n"
     ]
    }
   ],
   "source": [
    "look_back = 60\n",
    "x_train, y_train, x_test, y_test = load_data(training_set, look_back)\n",
    "print('x_train.shape = ',x_train.shape)\n",
    "print('y_train.shape = ',y_train.shape)\n",
    "print('x_test.shape = ',x_test.shape)\n",
    "print('y_test.shape = ',y_test.shape)"
   ]
  },
  {
   "cell_type": "code",
   "execution_count": 18,
   "metadata": {},
   "outputs": [],
   "source": [
    "# make training and test sets in torch\n",
    "x_train = torch.from_numpy(x_train).type(torch.Tensor)\n",
    "x_test = torch.from_numpy(x_test).type(torch.Tensor)\n",
    "y_train = torch.from_numpy(y_train).type(torch.Tensor)\n",
    "y_test = torch.from_numpy(y_test).type(torch.Tensor)"
   ]
  },
  {
   "cell_type": "code",
   "execution_count": 19,
   "metadata": {},
   "outputs": [
    {
     "data": {
      "text/plain": [
       "(torch.Size([43267, 1]), torch.Size([43267, 59, 1]))"
      ]
     },
     "execution_count": 19,
     "metadata": {},
     "output_type": "execute_result"
    }
   ],
   "source": [
    "y_train.size(),x_train.size()"
   ]
  },
  {
   "cell_type": "code",
   "execution_count": 20,
   "metadata": {},
   "outputs": [
    {
     "name": "stdout",
     "output_type": "stream",
     "text": [
      "LSTM(\n",
      "  (lstm): LSTM(1, 32, num_layers=2, batch_first=True)\n",
      "  (fc): Linear(in_features=32, out_features=1, bias=True)\n",
      ")\n",
      "10\n",
      "torch.Size([128, 1])\n",
      "torch.Size([128, 32])\n",
      "torch.Size([128])\n",
      "torch.Size([128])\n",
      "torch.Size([128, 32])\n",
      "torch.Size([128, 32])\n",
      "torch.Size([128])\n",
      "torch.Size([128])\n",
      "torch.Size([1, 32])\n",
      "torch.Size([1])\n"
     ]
    }
   ],
   "source": [
    "model = LSTM(input_dim=input_dim, hidden_dim=hidden_dim, output_dim=output_dim, num_layers=num_layers)\n",
    "\n",
    "loss_fn = torch.nn.MSELoss()\n",
    "\n",
    "optimiser = torch.optim.Adam(model.parameters(), lr=0.01)\n",
    "print(model)\n",
    "print(len(list(model.parameters())))\n",
    "for i in range(len(list(model.parameters()))):\n",
    "    print(list(model.parameters())[i].size())"
   ]
  },
  {
   "cell_type": "code",
   "execution_count": 21,
   "metadata": {},
   "outputs": [
    {
     "name": "stdout",
     "output_type": "stream",
     "text": [
      "Epoch  10 MSE:  0.054963368922472\n",
      "Epoch  20 MSE:  0.016848113387823105\n",
      "Epoch  30 MSE:  0.0072920373640954494\n",
      "Epoch  40 MSE:  0.004979188088327646\n",
      "Epoch  50 MSE:  0.0008246764191426337\n",
      "Epoch  60 MSE:  0.0005252041155472398\n",
      "Epoch  70 MSE:  0.00034587178379297256\n",
      "Epoch  80 MSE:  0.00022986844123806804\n",
      "Epoch  90 MSE:  0.0001721191656542942\n"
     ]
    }
   ],
   "source": [
    "# Train model\n",
    "#####################\n",
    "num_epochs = 100\n",
    "hist = np.zeros(num_epochs)\n",
    "\n",
    "# Number of steps to unroll\n",
    "seq_dim =look_back-1  \n",
    "\n",
    "for t in range(num_epochs):\n",
    "    # Initialise hidden state\n",
    "    # Don't do this if you want your LSTM to be stateful\n",
    "    #model.hidden = model.init_hidden()\n",
    "    \n",
    "    # Forward pass\n",
    "    y_train_pred = model(x_train)\n",
    "\n",
    "    loss = loss_fn(y_train_pred, y_train)\n",
    "    if t % 10 == 0 and t !=0:\n",
    "        print(\"Epoch \", t, \"MSE: \", loss.item())\n",
    "    hist[t] = loss.item()\n",
    "\n",
    "    # Zero out gradient, else they will accumulate between epochs\n",
    "    optimiser.zero_grad()\n",
    "\n",
    "    # Backward pass\n",
    "    loss.backward()\n",
    "\n",
    "    # Update parameters\n",
    "    optimiser.step()"
   ]
  },
  {
   "cell_type": "code",
   "execution_count": 22,
   "metadata": {},
   "outputs": [
    {
     "data": {
      "image/png": "[encoded data removed]",
      "text/plain": [
       "<Figure size 640x480 with 1 Axes>"
      ]
     },
     "metadata": {},
     "output_type": "display_data"
    }
   ],
   "source": [
    "plt.plot(hist, label=\"Training loss\")\n",
    "plt.legend()\n",
    "plt.show()"
   ]
  },
  {
   "cell_type": "code",
   "execution_count": 24,
   "metadata": {},
   "outputs": [
    {
     "name": "stdout",
     "output_type": "stream",
     "text": [
      "Train Score: 405.46 RMSE\n",
      "Test Score: 394.61 RMSE\n"
     ]
    }
   ],
   "source": [
    "# make predictions\n",
    "y_test_pred = model(x_test)\n",
    "\n",
    "# invert predictions\n",
    "y_train_pred = scaler.inverse_transform(y_train_pred.detach().numpy())\n",
    "y_train = scaler.inverse_transform(y_train.detach().numpy())\n",
    "y_test_pred = scaler.inverse_transform(y_test_pred.detach().numpy())\n",
    "y_test = scaler.inverse_transform(y_test.detach().numpy())\n",
    "\n",
    "# calculate root mean squared error\n",
    "trainScore = math.sqrt(mean_squared_error(y_train[:,0], y_train_pred[:,0]))\n",
    "print('Train Score: %.2f RMSE' % (trainScore))\n",
    "testScore = math.sqrt(mean_squared_error(y_test[:,0], y_test_pred[:,0]))\n",
    "print('Test Score: %.2f RMSE' % (testScore))"
   ]
  },
  {
   "cell_type": "code",
   "execution_count": 25,
   "metadata": {},
   "outputs": [
    {
     "data": {
      "image/png": "[encoded data removed]",
      "text/plain": [
       "<Figure size 1500x600 with 1 Axes>"
      ]
     },
     "metadata": {},
     "output_type": "display_data"
    }
   ],
   "source": [
    "# Visualising the results\n",
    "figure, axes = plt.subplots(figsize=(15, 6))\n",
    "axes.xaxis_date()\n",
    "\n",
    "axes.plot(training_set[len(training_set)-len(y_test):].index, y_test, color = 'red', label = 'Real BTC 1 Hour Price')\n",
    "axes.plot(training_set[len(training_set)-len(y_test):].index, y_test_pred, color = 'blue', label = 'Predicted BTC 1 Hour Price')\n",
    "#axes.xticks(np.arange(0,394,50))\n",
    "plt.title('BTC 1 Hour Price Prediction')\n",
    "plt.xlabel('Time')\n",
    "plt.ylabel('BTC 1 Hour Price')\n",
    "plt.legend()\n",
    "plt.savefig('btc_pred_1_hour.png')\n",
    "plt.show()"
   ]
  },
  {
   "cell_type": "markdown",
   "metadata": {},
   "source": [
    "Test with most recent data from coinbase"
   ]
  },
  {
   "cell_type": "code",
   "execution_count": 194,
   "metadata": {},
   "outputs": [],
   "source": [
    "import pickle"
   ]
  },
  {
   "cell_type": "code",
   "execution_count": 195,
   "metadata": {},
   "outputs": [],
   "source": [
    "btc_1hr_data = pickle.load(open('coinbase_now.pkl','rb'))"
   ]
  },
  {
   "cell_type": "code",
   "execution_count": 196,
   "metadata": {},
   "outputs": [
    {
     "data": {
      "text/html": [
       "<div>\n",
       "<style scoped>\n",
       "    .dataframe tbody tr th:only-of-type {\n",
       "        vertical-align: middle;\n",
       "    }\n",
       "\n",
       "    .dataframe tbody tr th {\n",
       "        vertical-align: top;\n",
       "    }\n",
       "\n",
       "    .dataframe thead th {\n",
       "        text-align: right;\n",
       "    }\n",
       "</style>\n",
       "<table border=\"1\" class=\"dataframe\">\n",
       "  <thead>\n",
       "    <tr style=\"text-align: right;\">\n",
       "      <th></th>\n",
       "      <th>date</th>\n",
       "      <th>low</th>\n",
       "      <th>high</th>\n",
       "      <th>open</th>\n",
       "      <th>close</th>\n",
       "      <th>volume</th>\n",
       "    </tr>\n",
       "  </thead>\n",
       "  <tbody>\n",
       "    <tr>\n",
       "      <th>0</th>\n",
       "      <td>2024-02-29 05:00:00</td>\n",
       "      <td>61811.07</td>\n",
       "      <td>62668.98</td>\n",
       "      <td>62454.54</td>\n",
       "      <td>62535.58</td>\n",
       "      <td>934.852081</td>\n",
       "    </tr>\n",
       "    <tr>\n",
       "      <th>1</th>\n",
       "      <td>2024-02-29 06:00:00</td>\n",
       "      <td>62470.23</td>\n",
       "      <td>63675.48</td>\n",
       "      <td>62540.78</td>\n",
       "      <td>62995.69</td>\n",
       "      <td>1769.866969</td>\n",
       "    </tr>\n",
       "    <tr>\n",
       "      <th>2</th>\n",
       "      <td>2024-02-29 07:00:00</td>\n",
       "      <td>62551.62</td>\n",
       "      <td>63168.34</td>\n",
       "      <td>62995.32</td>\n",
       "      <td>62726.42</td>\n",
       "      <td>1076.768580</td>\n",
       "    </tr>\n",
       "    <tr>\n",
       "      <th>3</th>\n",
       "      <td>2024-02-29 08:00:00</td>\n",
       "      <td>62333.00</td>\n",
       "      <td>63151.91</td>\n",
       "      <td>62722.45</td>\n",
       "      <td>62815.14</td>\n",
       "      <td>1121.869378</td>\n",
       "    </tr>\n",
       "    <tr>\n",
       "      <th>4</th>\n",
       "      <td>2024-02-29 09:00:00</td>\n",
       "      <td>62277.78</td>\n",
       "      <td>63005.06</td>\n",
       "      <td>62811.98</td>\n",
       "      <td>62695.76</td>\n",
       "      <td>708.449512</td>\n",
       "    </tr>\n",
       "    <tr>\n",
       "      <th>...</th>\n",
       "      <td>...</td>\n",
       "      <td>...</td>\n",
       "      <td>...</td>\n",
       "      <td>...</td>\n",
       "      <td>...</td>\n",
       "      <td>...</td>\n",
       "    </tr>\n",
       "    <tr>\n",
       "      <th>295</th>\n",
       "      <td>2024-03-12 12:00:00</td>\n",
       "      <td>71462.26</td>\n",
       "      <td>72281.10</td>\n",
       "      <td>72044.26</td>\n",
       "      <td>72199.66</td>\n",
       "      <td>1094.823697</td>\n",
       "    </tr>\n",
       "    <tr>\n",
       "      <th>296</th>\n",
       "      <td>2024-03-12 13:00:00</td>\n",
       "      <td>71710.01</td>\n",
       "      <td>72355.41</td>\n",
       "      <td>72198.34</td>\n",
       "      <td>72339.96</td>\n",
       "      <td>1553.069762</td>\n",
       "    </tr>\n",
       "    <tr>\n",
       "      <th>297</th>\n",
       "      <td>2024-03-12 14:00:00</td>\n",
       "      <td>71622.36</td>\n",
       "      <td>73027.63</td>\n",
       "      <td>72339.92</td>\n",
       "      <td>71648.97</td>\n",
       "      <td>2819.577086</td>\n",
       "    </tr>\n",
       "    <tr>\n",
       "      <th>298</th>\n",
       "      <td>2024-03-12 15:00:00</td>\n",
       "      <td>70852.94</td>\n",
       "      <td>72081.95</td>\n",
       "      <td>71642.31</td>\n",
       "      <td>71711.25</td>\n",
       "      <td>1650.016796</td>\n",
       "    </tr>\n",
       "    <tr>\n",
       "      <th>299</th>\n",
       "      <td>2024-03-12 16:00:00</td>\n",
       "      <td>70080.00</td>\n",
       "      <td>71836.71</td>\n",
       "      <td>71711.27</td>\n",
       "      <td>70475.52</td>\n",
       "      <td>2536.547316</td>\n",
       "    </tr>\n",
       "  </tbody>\n",
       "</table>\n",
       "<p>300 rows × 6 columns</p>\n",
       "</div>"
      ],
      "text/plain": [
       "                   date       low      high      open     close       volume\n",
       "0   2024-02-29 05:00:00  61811.07  62668.98  62454.54  62535.58   934.852081\n",
       "1   2024-02-29 06:00:00  62470.23  63675.48  62540.78  62995.69  1769.866969\n",
       "2   2024-02-29 07:00:00  62551.62  63168.34  62995.32  62726.42  1076.768580\n",
       "3   2024-02-29 08:00:00  62333.00  63151.91  62722.45  62815.14  1121.869378\n",
       "4   2024-02-29 09:00:00  62277.78  63005.06  62811.98  62695.76   708.449512\n",
       "..                  ...       ...       ...       ...       ...          ...\n",
       "295 2024-03-12 12:00:00  71462.26  72281.10  72044.26  72199.66  1094.823697\n",
       "296 2024-03-12 13:00:00  71710.01  72355.41  72198.34  72339.96  1553.069762\n",
       "297 2024-03-12 14:00:00  71622.36  73027.63  72339.92  71648.97  2819.577086\n",
       "298 2024-03-12 15:00:00  70852.94  72081.95  71642.31  71711.25  1650.016796\n",
       "299 2024-03-12 16:00:00  70080.00  71836.71  71711.27  70475.52  2536.547316\n",
       "\n",
       "[300 rows x 6 columns]"
      ]
     },
     "execution_count": 196,
     "metadata": {},
     "output_type": "execute_result"
    }
   ],
   "source": [
    "btc_1hr_data"
   ]
  },
  {
   "cell_type": "code",
   "execution_count": 197,
   "metadata": {},
   "outputs": [],
   "source": [
    "btc_1hr_data = btc_1hr_data[['date','close']]"
   ]
  },
  {
   "cell_type": "code",
   "execution_count": 198,
   "metadata": {},
   "outputs": [
    {
     "data": {
      "text/html": [
       "<div>\n",
       "<style scoped>\n",
       "    .dataframe tbody tr th:only-of-type {\n",
       "        vertical-align: middle;\n",
       "    }\n",
       "\n",
       "    .dataframe tbody tr th {\n",
       "        vertical-align: top;\n",
       "    }\n",
       "\n",
       "    .dataframe thead th {\n",
       "        text-align: right;\n",
       "    }\n",
       "</style>\n",
       "<table border=\"1\" class=\"dataframe\">\n",
       "  <thead>\n",
       "    <tr style=\"text-align: right;\">\n",
       "      <th></th>\n",
       "      <th>date</th>\n",
       "      <th>close</th>\n",
       "    </tr>\n",
       "  </thead>\n",
       "  <tbody>\n",
       "    <tr>\n",
       "      <th>0</th>\n",
       "      <td>2024-02-29 05:00:00</td>\n",
       "      <td>62535.58</td>\n",
       "    </tr>\n",
       "    <tr>\n",
       "      <th>1</th>\n",
       "      <td>2024-02-29 06:00:00</td>\n",
       "      <td>62995.69</td>\n",
       "    </tr>\n",
       "    <tr>\n",
       "      <th>2</th>\n",
       "      <td>2024-02-29 07:00:00</td>\n",
       "      <td>62726.42</td>\n",
       "    </tr>\n",
       "    <tr>\n",
       "      <th>3</th>\n",
       "      <td>2024-02-29 08:00:00</td>\n",
       "      <td>62815.14</td>\n",
       "    </tr>\n",
       "    <tr>\n",
       "      <th>4</th>\n",
       "      <td>2024-02-29 09:00:00</td>\n",
       "      <td>62695.76</td>\n",
       "    </tr>\n",
       "    <tr>\n",
       "      <th>...</th>\n",
       "      <td>...</td>\n",
       "      <td>...</td>\n",
       "    </tr>\n",
       "    <tr>\n",
       "      <th>295</th>\n",
       "      <td>2024-03-12 12:00:00</td>\n",
       "      <td>72199.66</td>\n",
       "    </tr>\n",
       "    <tr>\n",
       "      <th>296</th>\n",
       "      <td>2024-03-12 13:00:00</td>\n",
       "      <td>72339.96</td>\n",
       "    </tr>\n",
       "    <tr>\n",
       "      <th>297</th>\n",
       "      <td>2024-03-12 14:00:00</td>\n",
       "      <td>71648.97</td>\n",
       "    </tr>\n",
       "    <tr>\n",
       "      <th>298</th>\n",
       "      <td>2024-03-12 15:00:00</td>\n",
       "      <td>71711.25</td>\n",
       "    </tr>\n",
       "    <tr>\n",
       "      <th>299</th>\n",
       "      <td>2024-03-12 16:00:00</td>\n",
       "      <td>70475.52</td>\n",
       "    </tr>\n",
       "  </tbody>\n",
       "</table>\n",
       "<p>300 rows × 2 columns</p>\n",
       "</div>"
      ],
      "text/plain": [
       "                   date     close\n",
       "0   2024-02-29 05:00:00  62535.58\n",
       "1   2024-02-29 06:00:00  62995.69\n",
       "2   2024-02-29 07:00:00  62726.42\n",
       "3   2024-02-29 08:00:00  62815.14\n",
       "4   2024-02-29 09:00:00  62695.76\n",
       "..                  ...       ...\n",
       "295 2024-03-12 12:00:00  72199.66\n",
       "296 2024-03-12 13:00:00  72339.96\n",
       "297 2024-03-12 14:00:00  71648.97\n",
       "298 2024-03-12 15:00:00  71711.25\n",
       "299 2024-03-12 16:00:00  70475.52\n",
       "\n",
       "[300 rows x 2 columns]"
      ]
     },
     "execution_count": 198,
     "metadata": {},
     "output_type": "execute_result"
    }
   ],
   "source": [
    "btc_1hr_data"
   ]
  },
  {
   "cell_type": "code",
   "execution_count": 199,
   "metadata": {},
   "outputs": [],
   "source": [
    "# set the dates to datetime\n",
    "btc_1hr_data.set_index('date',inplace=True)"
   ]
  },
  {
   "cell_type": "code",
   "execution_count": 200,
   "metadata": {},
   "outputs": [
    {
     "name": "stderr",
     "output_type": "stream",
     "text": [
      "C:\\Users\\jonat\\AppData\\Local\\Temp\\ipykernel_29516\\2395733992.py:2: SettingWithCopyWarning: \n",
      "A value is trying to be set on a copy of a slice from a DataFrame.\n",
      "Try using .loc[row_indexer,col_indexer] = value instead\n",
      "\n",
      "See the caveats in the documentation: https://pandas.pydata.org/pandas-docs/stable/user_guide/indexing.html#returning-a-view-versus-a-copy\n",
      "  btc_1hr_data['close'] = scaler.fit_transform(btc_1hr_data['close'].values.reshape(-1,1))\n"
     ]
    }
   ],
   "source": [
    "scaler = MinMaxScaler(feature_range=(-1, 1))\n",
    "btc_1hr_data['close'] = scaler.fit_transform(btc_1hr_data['close'].values.reshape(-1,1))"
   ]
  },
  {
   "cell_type": "code",
   "execution_count": 202,
   "metadata": {},
   "outputs": [],
   "source": [
    "look_back = 60\n",
    "test_data = btc_1hr_data['close'].values\n",
    "data = []\n",
    "\n",
    "# create all possible sequences of length look_back\n",
    "for index in range(len(test_data) - look_back): \n",
    "    data.append(test_data[index: index + look_back])"
   ]
  },
  {
   "cell_type": "code",
   "execution_count": 203,
   "metadata": {},
   "outputs": [],
   "source": [
    "data = np.array(data)"
   ]
  },
  {
   "cell_type": "code",
   "execution_count": 204,
   "metadata": {},
   "outputs": [],
   "source": [
    "x_test = data[:,:-1]"
   ]
  },
  {
   "cell_type": "code",
   "execution_count": 205,
   "metadata": {},
   "outputs": [
    {
     "data": {
      "text/plain": [
       "(240, 59, 1)"
      ]
     },
     "execution_count": 205,
     "metadata": {},
     "output_type": "execute_result"
    }
   ],
   "source": [
    "x_test = np.expand_dims(x_test, 2)\n",
    "x_test.shape"
   ]
  },
  {
   "cell_type": "code",
   "execution_count": 206,
   "metadata": {},
   "outputs": [
    {
     "name": "stdout",
     "output_type": "stream",
     "text": [
      "[-8.07131225e-01 -8.24468546e-01 -7.79133406e-01 -7.65565806e-01\n",
      " -8.04429592e-01 -7.99559520e-01 -8.36129210e-01 -7.87803764e-01\n",
      " -8.31571583e-01 -8.23848749e-01 -8.23142351e-01 -8.00469687e-01\n",
      " -7.86056447e-01 -8.07885170e-01 -8.13621259e-01 -8.57947744e-01\n",
      " -8.57487566e-01 -8.38425004e-01 -8.48932677e-01 -8.17530221e-01\n",
      " -7.60580265e-01 -7.22813434e-01 -7.72823368e-01 -7.61614392e-01\n",
      " -6.46712617e-01 -6.92543594e-01 -6.52710209e-01 -6.64379363e-01\n",
      " -6.59653627e-01 -6.49998387e-01 -6.48821623e-01 -5.99536766e-01\n",
      " -5.41503439e-01 -5.33142130e-01 -5.01904388e-01 -5.40581386e-01\n",
      " -5.11450952e-01 -5.58256623e-01 -5.04132259e-01 -4.36562558e-01\n",
      " -2.38071465e-01 -2.30559192e-01 -2.67159447e-01 -2.39925760e-01\n",
      " -2.60149804e-01 -2.59149639e-01 -7.27861804e-02 -2.52741114e-02\n",
      " -1.21751800e-02  4.41193202e-02  2.22107885e-03  1.44363333e-01\n",
      "  1.59758059e-01  1.40542670e-01  2.23265971e-01  2.84420354e-01\n",
      "  2.45312046e-01  3.33418237e-01  2.66921717e-01  2.64437437e-01\n",
      "  1.19401667e-01  5.18591347e-02  1.12099955e-01 -8.03069436e-02\n",
      "  3.65425206e-02 -3.90658563e-02  2.66308713e-02  2.80351773e-03\n",
      "  1.21566710e-01  1.95118721e-01  3.67091015e-01  1.71607209e-02\n",
      " -2.07536725e-01 -1.83145611e-01 -4.54716651e-01 -8.84897852e-01\n",
      " -8.13133912e-01 -5.70752739e-01 -5.50649258e-01 -4.89792037e-01\n",
      " -5.38134464e-01 -5.98888102e-01 -6.50280267e-01 -5.72946648e-01\n",
      " -3.43316302e-01 -4.12750487e-02 -1.56538513e-01 -4.70366087e-04\n",
      "  4.32770762e-02 -9.26689115e-02 -2.69993530e-04  1.06574427e-01\n",
      " -1.21787459e-01 -5.98196987e-02 -1.28141646e-01 -2.93359008e-02\n",
      "  8.43874118e-02  1.27805428e-01  8.75797882e-02  2.59652269e-02\n",
      "  6.62010552e-02 -3.49887842e-02 -1.20923140e-01 -9.55845020e-02\n",
      " -7.37421952e-02 -3.65578032e-02 -9.17774234e-02 -1.37859715e-01\n",
      " -1.39182514e-01 -1.38365741e-01 -1.33565290e-01 -4.41379990e-02\n",
      "  1.22091414e-03  1.17217946e-02  4.62266282e-02  4.49683564e-02\n",
      "  1.40294751e-02  4.51500502e-02  7.13224419e-02  1.09948497e-01\n",
      "  1.22843660e-01  1.70466104e-01  1.74419217e-01  1.54358188e-01\n",
      "  1.77365373e-01  1.12009957e-01  8.80450601e-02  4.29663289e-02\n",
      "  8.42617545e-02  6.17487090e-02  8.39917610e-02  9.10931002e-02\n",
      "  7.92796097e-02  5.15415951e-02  1.65679237e-01  1.16798522e-01\n",
      "  1.12103351e-01  8.88516445e-02  1.25849249e-01  1.92359353e-01\n",
      "  1.48331729e-01  2.06657123e-01  3.21479089e-01  1.72327191e-01\n",
      "  2.14902964e-01  3.01725411e-01  3.45262293e-01  4.01887917e-01\n",
      "  4.49807523e-01  2.98587373e-01  2.77203546e-01  2.72367436e-01\n",
      "  2.67859053e-01  2.39623503e-01  2.82138145e-01  2.96741569e-01\n",
      "  2.96597232e-01  2.91587919e-01  3.21951153e-01  2.95790648e-01\n",
      "  2.99000005e-01  2.99804891e-01  2.80414601e-01  3.00287144e-01\n",
      "  3.29702854e-01  3.12054787e-01  2.76149043e-01  3.01180330e-01\n",
      "  2.70832378e-01  2.76425829e-01  2.95160663e-01  2.87459904e-01\n",
      "  3.10470485e-01  3.18071058e-01  3.09436359e-01  3.04773452e-01\n",
      "  3.09755596e-01  4.12633320e-01  3.89882544e-01  4.38038183e-01\n",
      "  4.86487588e-01  4.72862254e-01  4.71393421e-01  4.75268423e-01\n",
      "  5.22350880e-01  5.46801426e-01  5.45157692e-01  5.13094686e-01\n",
      "  5.46714824e-01  4.71863787e-01  4.60705753e-01  4.51656724e-01\n",
      "  4.91340679e-01  4.87465678e-01  4.56404535e-01  4.83033708e-01\n",
      "  4.66939377e-01  4.28732745e-01  3.15028112e-01  3.98527432e-01\n",
      "  2.50017405e-01  2.82527004e-01  2.83515282e-01  3.29059285e-01\n",
      "  3.21343243e-01  3.22290768e-01  4.52468403e-01  7.38143633e-01\n",
      "  7.67589909e-01  8.66680930e-01  8.19943182e-01  8.26370387e-01\n",
      "  9.03892492e-01  8.22875754e-01  9.39582580e-01  9.16611055e-01\n",
      "  1.00000000e+00  9.99117002e-01  9.96754983e-01  9.08266726e-01\n",
      "  9.28351528e-01  9.92784890e-01  9.81312712e-01  9.21340187e-01\n",
      "  9.05349438e-01  9.83552470e-01  9.36806231e-01  8.40853247e-01\n",
      "  8.68783144e-01  9.00616910e-01  9.51329845e-01  9.28494166e-01\n",
      "  8.56249671e-01  8.96380219e-01  8.77952736e-01  9.11058358e-01\n",
      "  9.36398694e-01  9.60222651e-01  8.42887538e-01  8.53463134e-01]\n"
     ]
    },
    {
     "data": {
      "text/plain": [
       "(240, 1)"
      ]
     },
     "execution_count": 206,
     "metadata": {},
     "output_type": "execute_result"
    }
   ],
   "source": [
    "y_test = data[:,-1]\n",
    "print(y_test)\n",
    "y_test = np.expand_dims(y_test, 1)\n",
    "y_test.shape"
   ]
  },
  {
   "cell_type": "code",
   "execution_count": 207,
   "metadata": {},
   "outputs": [],
   "source": [
    "# make training and test sets in torch\n",
    "x_test = torch.from_numpy(x_test).type(torch.Tensor)\n",
    "y_test = torch.from_numpy(y_test).type(torch.Tensor)"
   ]
  },
  {
   "cell_type": "code",
   "execution_count": 208,
   "metadata": {},
   "outputs": [
    {
     "data": {
      "text/plain": [
       "(torch.Size([240, 59, 1]), torch.Size([240, 1]))"
      ]
     },
     "execution_count": 208,
     "metadata": {},
     "output_type": "execute_result"
    }
   ],
   "source": [
    "x_test.shape,y_test.shape"
   ]
  },
  {
   "cell_type": "code",
   "execution_count": 209,
   "metadata": {},
   "outputs": [],
   "source": [
    "# make predictions\n",
    "y_test_pred = model(x_test)"
   ]
  },
  {
   "cell_type": "code",
   "execution_count": 210,
   "metadata": {},
   "outputs": [],
   "source": [
    "\n",
    "# invert predictions\n",
    "y_test_pred = scaler.inverse_transform(y_test_pred.detach().numpy())\n",
    "y_test = scaler.inverse_transform(y_test.detach().numpy())"
   ]
  },
  {
   "cell_type": "code",
   "execution_count": 213,
   "metadata": {},
   "outputs": [
    {
     "data": {
      "image/png": "[encoded data removed]",
      "text/plain": [
       "<Figure size 1500x600 with 1 Axes>"
      ]
     },
     "metadata": {},
     "output_type": "display_data"
    }
   ],
   "source": [
    "# Visualising the results\n",
    "figure, axes = plt.subplots(figsize=(15, 6))\n",
    "axes.xaxis_date()\n",
    "\n",
    "axes.plot(btc_1hr_data[len(btc_1hr_data)-len(y_test):].index, y_test, color = 'red', label = 'Real BTC Price')\n",
    "axes.plot(btc_1hr_data[len(btc_1hr_data)-len(y_test):].index, y_test_pred, color = 'blue', label = 'Predicted BTC Price')\n",
    "#axes.xticks(np.arange(0,394,50))\n",
    "plt.title('BTC Price Prediction')\n",
    "plt.xlabel('Time')\n",
    "plt.ylabel('BTC Price')\n",
    "plt.legend()\n",
    "plt.savefig('btc_pred.png')\n",
    "plt.show()"
   ]
  },
  {
   "cell_type": "code",
   "execution_count": 214,
   "metadata": {},
   "outputs": [],
   "source": [
    "btc_1hr_data = pickle.load(open('coinbase_now.pkl','rb'))\n",
    "# set the dates to datetime\n",
    "btc_1hr_data.set_index('date',inplace=True)"
   ]
  },
  {
   "cell_type": "code",
   "execution_count": 215,
   "metadata": {},
   "outputs": [],
   "source": [
    "open_price = btc_1hr_data['open'].to_numpy()\n",
    "open_price = np.expand_dims(open_price,1)\n",
    "open_price = open_price[59:299]"
   ]
  },
  {
   "cell_type": "code",
   "execution_count": 216,
   "metadata": {},
   "outputs": [
    {
     "data": {
      "text/plain": [
       "array([[61846.5 ],\n",
       "       [61931.92],\n",
       "       [61829.92],\n",
       "       [62096.72],\n",
       "       [62177.5 ],\n",
       "       [61947.87],\n",
       "       [61977.59],\n",
       "       [61761.07],\n",
       "       [62045.78],\n",
       "       [61788.02],\n",
       "       [61833.51],\n",
       "       [61837.67],\n",
       "       [61971.19],\n",
       "       [62056.08],\n",
       "       [61927.52],\n",
       "       [61893.54],\n",
       "       [61632.71],\n",
       "       [61634.19],\n",
       "       [61747.54],\n",
       "       [61683.5 ],\n",
       "       [61869.66],\n",
       "       [62206.1 ],\n",
       "       [62428.52],\n",
       "       [62131.6 ],\n",
       "       [62200.  ],\n",
       "       [62874.69],\n",
       "       [62610.77],\n",
       "       [62839.99],\n",
       "       [62772.23],\n",
       "       [62800.46],\n",
       "       [62857.47],\n",
       "       [62864.23],\n",
       "       [63155.74],\n",
       "       [63487.99],\n",
       "       [63549.14],\n",
       "       [63729.45],\n",
       "       [63502.54],\n",
       "       [63671.01],\n",
       "       [63394.9 ],\n",
       "       [63716.33],\n",
       "       [64114.41],\n",
       "       [65283.17],\n",
       "       [65334.08],\n",
       "       [65113.33],\n",
       "       [65266.43],\n",
       "       [65153.14],\n",
       "       [65159.03],\n",
       "       [66256.54],\n",
       "       [66540.02],\n",
       "       [66617.16],\n",
       "       [66951.91],\n",
       "       [66698.27],\n",
       "       [67535.34],\n",
       "       [67637.85],\n",
       "       [67503.09],\n",
       "       [67999.99],\n",
       "       [68356.7 ],\n",
       "       [68130.96],\n",
       "       [68651.03],\n",
       "       [68257.95],\n",
       "       [68241.79],\n",
       "       [67388.38],\n",
       "       [66996.72],\n",
       "       [67345.31],\n",
       "       [66212.21],\n",
       "       [66899.49],\n",
       "       [66452.33],\n",
       "       [66836.  ],\n",
       "       [66701.75],\n",
       "       [67401.08],\n",
       "       [67830.83],\n",
       "       [68846.99],\n",
       "       [66793.67],\n",
       "       [65467.14],\n",
       "       [65606.48],\n",
       "       [64009.79],\n",
       "       [61473.1 ],\n",
       "       [61902.36],\n",
       "       [63321.31],\n",
       "       [63444.84],\n",
       "       [63802.15],\n",
       "       [63506.32],\n",
       "       [63163.54],\n",
       "       [62857.86],\n",
       "       [63311.09],\n",
       "       [64653.08],\n",
       "       [66450.34],\n",
       "       [65762.86],\n",
       "       [66678.97],\n",
       "       [66940.03],\n",
       "       [66133.24],\n",
       "       [66683.71],\n",
       "       [67304.9 ],\n",
       "       [65967.98],\n",
       "       [66327.84],\n",
       "       [65923.36],\n",
       "       [66512.45],\n",
       "       [67182.13],\n",
       "       [67437.89],\n",
       "       [67209.97],\n",
       "       [66838.12],\n",
       "       [67073.38],\n",
       "       [66479.12],\n",
       "       [65982.1 ],\n",
       "       [66115.48],\n",
       "       [66250.89],\n",
       "       [66476.48],\n",
       "       [66144.69],\n",
       "       [65873.32],\n",
       "       [65865.52],\n",
       "       [65867.04],\n",
       "       [65898.61],\n",
       "       [66421.58],\n",
       "       [66692.54],\n",
       "       [66757.94],\n",
       "       [66947.21],\n",
       "       [66950.  ],\n",
       "       [66767.8 ],\n",
       "       [66951.07],\n",
       "       [67094.47],\n",
       "       [67319.98],\n",
       "       [67412.88],\n",
       "       [67689.06],\n",
       "       [67716.7 ],\n",
       "       [67594.2 ],\n",
       "       [67720.89],\n",
       "       [67344.81],\n",
       "       [67203.65],\n",
       "       [66938.21],\n",
       "       [67177.73],\n",
       "       [67048.82],\n",
       "       [67176.98],\n",
       "       [67229.27],\n",
       "       [67152.06],\n",
       "       [66988.71],\n",
       "       [67660.25],\n",
       "       [67373.02],\n",
       "       [67345.36],\n",
       "       [67213.6 ],\n",
       "       [67426.3 ],\n",
       "       [67821.38],\n",
       "       [67558.72],\n",
       "       [67899.18],\n",
       "       [68582.61],\n",
       "       [67709.54],\n",
       "       [67947.05],\n",
       "       [68454.08],\n",
       "       [68718.44],\n",
       "       [69051.89],\n",
       "       [69333.08],\n",
       "       [68442.4 ],\n",
       "       [68317.63],\n",
       "       [68289.16],\n",
       "       [68262.61],\n",
       "       [68096.46],\n",
       "       [68349.92],\n",
       "       [68432.71],\n",
       "       [68431.85],\n",
       "       [68402.98],\n",
       "       [68576.79],\n",
       "       [68436.37],\n",
       "       [68448.51],\n",
       "       [68450.74],\n",
       "       [68338.87],\n",
       "       [68453.45],\n",
       "       [68633.21],\n",
       "       [68522.88],\n",
       "       [68312.38],\n",
       "       [68458.59],\n",
       "       [68281.35],\n",
       "       [68316.  ],\n",
       "       [68423.39],\n",
       "       [68378.  ],\n",
       "       [68513.55],\n",
       "       [68558.31],\n",
       "       [68505.61],\n",
       "       [68480.01],\n",
       "       [68513.24],\n",
       "       [69115.23],\n",
       "       [68981.21],\n",
       "       [69266.56],\n",
       "       [69550.13],\n",
       "       [69472.7 ],\n",
       "       [69459.71],\n",
       "       [69484.87],\n",
       "       [69761.32],\n",
       "       [69910.42],\n",
       "       [69895.63],\n",
       "       [69706.81],\n",
       "       [69904.8 ],\n",
       "       [69468.83],\n",
       "       [69400.61],\n",
       "       [69345.64],\n",
       "       [69572.88],\n",
       "       [69554.09],\n",
       "       [69372.96],\n",
       "       [69528.52],\n",
       "       [69435.36],\n",
       "       [69209.99],\n",
       "       [68536.99],\n",
       "       [69032.8 ],\n",
       "       [68167.86],\n",
       "       [68348.99],\n",
       "       [68349.05],\n",
       "       [68623.25],\n",
       "       [68575.16],\n",
       "       [68584.84],\n",
       "       [69357.39],\n",
       "       [71032.14],\n",
       "       [71205.55],\n",
       "       [71789.06],\n",
       "       [71513.81],\n",
       "       [71551.85],\n",
       "       [72008.23],\n",
       "       [71518.69],\n",
       "       [72218.4 ],\n",
       "       [72085.54],\n",
       "       [72574.21],\n",
       "       [72569.02],\n",
       "       [72562.35],\n",
       "       [72046.33],\n",
       "       [72147.73],\n",
       "       [72535.67],\n",
       "       [72464.28],\n",
       "       [72110.98],\n",
       "       [72018.17],\n",
       "       [72477.35],\n",
       "       [72201.71],\n",
       "       [71633.37],\n",
       "       [71809.62],\n",
       "       [71983.49],\n",
       "       [72282.28],\n",
       "       [72153.1 ],\n",
       "       [71725.41],\n",
       "       [71963.98],\n",
       "       [71854.31],\n",
       "       [72044.26],\n",
       "       [72198.34],\n",
       "       [72339.92],\n",
       "       [71642.31]])"
      ]
     },
     "execution_count": 216,
     "metadata": {},
     "output_type": "execute_result"
    }
   ],
   "source": [
    "open_price"
   ]
  },
  {
   "cell_type": "code",
   "execution_count": 217,
   "metadata": {},
   "outputs": [],
   "source": [
    "pred_diff = open_price - y_test_pred"
   ]
  },
  {
   "cell_type": "code",
   "execution_count": 219,
   "metadata": {},
   "outputs": [],
   "source": [
    "actual_diff = open_price - y_test"
   ]
  },
  {
   "cell_type": "code",
   "execution_count": 220,
   "metadata": {},
   "outputs": [],
   "source": [
    "data = np.hstack((pred_diff,actual_diff))\n",
    "df = pd.DataFrame(data,columns=['pred diff', 'actual_diff'])"
   ]
  },
  {
   "cell_type": "code",
   "execution_count": 221,
   "metadata": {},
   "outputs": [
    {
     "data": {
      "text/html": [
       "<div>\n",
       "<style scoped>\n",
       "    .dataframe tbody tr th:only-of-type {\n",
       "        vertical-align: middle;\n",
       "    }\n",
       "\n",
       "    .dataframe tbody tr th {\n",
       "        vertical-align: top;\n",
       "    }\n",
       "\n",
       "    .dataframe thead th {\n",
       "        text-align: right;\n",
       "    }\n",
       "</style>\n",
       "<table border=\"1\" class=\"dataframe\">\n",
       "  <thead>\n",
       "    <tr style=\"text-align: right;\">\n",
       "      <th></th>\n",
       "      <th>pred diff</th>\n",
       "      <th>actual_diff</th>\n",
       "    </tr>\n",
       "  </thead>\n",
       "  <tbody>\n",
       "    <tr>\n",
       "      <th>0</th>\n",
       "      <td>-76.968750</td>\n",
       "      <td>-85.457031</td>\n",
       "    </tr>\n",
       "    <tr>\n",
       "      <th>1</th>\n",
       "      <td>22.318437</td>\n",
       "      <td>102.056719</td>\n",
       "    </tr>\n",
       "    <tr>\n",
       "      <th>2</th>\n",
       "      <td>-59.271406</td>\n",
       "      <td>-266.919844</td>\n",
       "    </tr>\n",
       "    <tr>\n",
       "      <th>3</th>\n",
       "      <td>192.981719</td>\n",
       "      <td>-80.022187</td>\n",
       "    </tr>\n",
       "    <tr>\n",
       "      <th>4</th>\n",
       "      <td>236.605469</td>\n",
       "      <td>229.628906</td>\n",
       "    </tr>\n",
       "    <tr>\n",
       "      <th>...</th>\n",
       "      <td>...</td>\n",
       "      <td>...</td>\n",
       "    </tr>\n",
       "    <tr>\n",
       "      <th>235</th>\n",
       "      <td>-49.471250</td>\n",
       "      <td>-196.119688</td>\n",
       "    </tr>\n",
       "    <tr>\n",
       "      <th>236</th>\n",
       "      <td>144.986562</td>\n",
       "      <td>-155.404063</td>\n",
       "    </tr>\n",
       "    <tr>\n",
       "      <th>237</th>\n",
       "      <td>275.175937</td>\n",
       "      <td>-141.620938</td>\n",
       "    </tr>\n",
       "    <tr>\n",
       "      <th>238</th>\n",
       "      <td>367.005937</td>\n",
       "      <td>690.951250</td>\n",
       "    </tr>\n",
       "    <tr>\n",
       "      <th>239</th>\n",
       "      <td>-314.135313</td>\n",
       "      <td>-68.940000</td>\n",
       "    </tr>\n",
       "  </tbody>\n",
       "</table>\n",
       "<p>240 rows × 2 columns</p>\n",
       "</div>"
      ],
      "text/plain": [
       "      pred diff  actual_diff\n",
       "0    -76.968750   -85.457031\n",
       "1     22.318437   102.056719\n",
       "2    -59.271406  -266.919844\n",
       "3    192.981719   -80.022187\n",
       "4    236.605469   229.628906\n",
       "..          ...          ...\n",
       "235  -49.471250  -196.119688\n",
       "236  144.986562  -155.404063\n",
       "237  275.175937  -141.620938\n",
       "238  367.005937   690.951250\n",
       "239 -314.135313   -68.940000\n",
       "\n",
       "[240 rows x 2 columns]"
      ]
     },
     "execution_count": 221,
     "metadata": {},
     "output_type": "execute_result"
    }
   ],
   "source": [
    "df"
   ]
  },
  {
   "cell_type": "code",
   "execution_count": 226,
   "metadata": {},
   "outputs": [],
   "source": [
    "temp_p, temp_a = 0, 0\n",
    "row_c = 0\n",
    "totals_a, totals_p = [], []\n",
    "for i, row in df.iterrows():\n",
    "    if row_c >= 4:\n",
    "        totals_a.append(temp_a)\n",
    "        totals_p.append(temp_p)\n",
    "        row_c = 0\n",
    "    temp_p += row['pred diff']\n",
    "    temp_a += row['actual_diff']\n",
    "    row_c += 1"
   ]
  },
  {
   "cell_type": "code",
   "execution_count": 237,
   "metadata": {},
   "outputs": [],
   "source": [
    "count = 0\n",
    "for i, row in df.iterrows():\n",
    "    if (row['pred diff'] > 0 and row['actual_diff'] < 0):\n",
    "        count+=1"
   ]
  },
  {
   "cell_type": "code",
   "execution_count": 238,
   "metadata": {},
   "outputs": [
    {
     "data": {
      "text/plain": [
       "82"
      ]
     },
     "execution_count": 238,
     "metadata": {},
     "output_type": "execute_result"
    }
   ],
   "source": [
    "count"
   ]
  },
  {
   "cell_type": "markdown",
   "metadata": {},
   "source": [
    "## Increasing the Layers"
   ]
  },
  {
   "cell_type": "code",
   "execution_count": 2,
   "metadata": {},
   "outputs": [],
   "source": [
    "import numpy as np\n",
    "import random\n",
    "import pandas as pd \n",
    "from pylab import mpl, plt\n",
    "\n",
    "import math, time\n",
    "import itertools\n",
    "import datetime\n",
    "from operator import itemgetter\n",
    "from sklearn.metrics import mean_squared_error\n",
    "from sklearn.model_selection import train_test_split\n",
    "from sklearn.preprocessing import MinMaxScaler\n",
    "from math import sqrt\n",
    "import torch\n",
    "import torch.nn as nn\n",
    "from torch.autograd import Variable"
   ]
  },
  {
   "cell_type": "code",
   "execution_count": 3,
   "metadata": {},
   "outputs": [],
   "source": [
    "device = (\n",
    "    \"cuda\"\n",
    "    if torch.cuda.is_available()\n",
    "    else \"mps\"\n",
    "    if torch.backends.mps.is_available()\n",
    "    else \"cpu\"\n",
    ")"
   ]
  },
  {
   "cell_type": "code",
   "execution_count": 4,
   "metadata": {},
   "outputs": [
    {
     "name": "stdout",
     "output_type": "stream",
     "text": [
      "Using cuda device\n"
     ]
    }
   ],
   "source": [
    "print(f\"Using {device} device\")"
   ]
  },
  {
   "cell_type": "code",
   "execution_count": 6,
   "metadata": {},
   "outputs": [],
   "source": [
    "training_set = pd.read_csv('https://raw.githubusercontent.com/juff12/StockTradingModel/main/data/crypto/data/formatted/ethusd/ethusd_1_hour_data_formatted.csv')\n",
    "training_set = training_set[['date','close']]\n",
    "\n",
    "# set the dates to datetiem\n",
    "training_set['date'] = pd.to_datetime(training_set['date'])\n",
    "training_set.set_index('date', inplace=True)"
   ]
  },
  {
   "cell_type": "code",
   "execution_count": 7,
   "metadata": {},
   "outputs": [
    {
     "name": "stdout",
     "output_type": "stream",
     "text": [
      "<class 'pandas.core.frame.DataFrame'>\n",
      "DatetimeIndex: 54144 entries, 2017-12-31 19:00:00 to 2024-03-05 18:00:00\n",
      "Data columns (total 1 columns):\n",
      " #   Column  Non-Null Count  Dtype  \n",
      "---  ------  --------------  -----  \n",
      " 0   close   54144 non-null  float64\n",
      "dtypes: float64(1)\n",
      "memory usage: 846.0 KB\n"
     ]
    }
   ],
   "source": [
    "training_set.info()"
   ]
  },
  {
   "cell_type": "code",
   "execution_count": 8,
   "metadata": {},
   "outputs": [
    {
     "data": {
      "text/html": [
       "<div>\n",
       "<style scoped>\n",
       "    .dataframe tbody tr th:only-of-type {\n",
       "        vertical-align: middle;\n",
       "    }\n",
       "\n",
       "    .dataframe tbody tr th {\n",
       "        vertical-align: top;\n",
       "    }\n",
       "\n",
       "    .dataframe thead th {\n",
       "        text-align: right;\n",
       "    }\n",
       "</style>\n",
       "<table border=\"1\" class=\"dataframe\">\n",
       "  <thead>\n",
       "    <tr style=\"text-align: right;\">\n",
       "      <th></th>\n",
       "      <th>close</th>\n",
       "    </tr>\n",
       "    <tr>\n",
       "      <th>date</th>\n",
       "      <th></th>\n",
       "    </tr>\n",
       "  </thead>\n",
       "  <tbody>\n",
       "    <tr>\n",
       "      <th>2017-12-31 19:00:00</th>\n",
       "      <td>730.92</td>\n",
       "    </tr>\n",
       "    <tr>\n",
       "      <th>2017-12-31 20:00:00</th>\n",
       "      <td>721.62</td>\n",
       "    </tr>\n",
       "    <tr>\n",
       "      <th>2017-12-31 21:00:00</th>\n",
       "      <td>730.01</td>\n",
       "    </tr>\n",
       "    <tr>\n",
       "      <th>2017-12-31 22:00:00</th>\n",
       "      <td>732.44</td>\n",
       "    </tr>\n",
       "    <tr>\n",
       "      <th>2017-12-31 23:00:00</th>\n",
       "      <td>742.59</td>\n",
       "    </tr>\n",
       "  </tbody>\n",
       "</table>\n",
       "</div>"
      ],
      "text/plain": [
       "                      close\n",
       "date                       \n",
       "2017-12-31 19:00:00  730.92\n",
       "2017-12-31 20:00:00  721.62\n",
       "2017-12-31 21:00:00  730.01\n",
       "2017-12-31 22:00:00  732.44\n",
       "2017-12-31 23:00:00  742.59"
      ]
     },
     "execution_count": 8,
     "metadata": {},
     "output_type": "execute_result"
    }
   ],
   "source": [
    "training_set.head()"
   ]
  },
  {
   "cell_type": "code",
   "execution_count": 9,
   "metadata": {},
   "outputs": [],
   "source": [
    "from sklearn.preprocessing import MinMaxScaler\n",
    "scaler = MinMaxScaler(feature_range=(-1, 1))\n",
    "training_set['close'] = scaler.fit_transform(training_set['close'].values.reshape(-1,1))"
   ]
  },
  {
   "cell_type": "code",
   "execution_count": 10,
   "metadata": {},
   "outputs": [],
   "source": [
    "# function to create train, test data given stock data and sequence length\n",
    "def load_data(stock, look_back):\n",
    "    data_raw = stock.values # convert to numpy array\n",
    "    data = []\n",
    "    \n",
    "    # create all possible sequences of length look_back\n",
    "    for index in range(len(data_raw) - look_back): \n",
    "        data.append(data_raw[index: index + look_back])\n",
    "    \n",
    "    data = np.array(data)\n",
    "\n",
    "    test_set_size = int(np.round(0.2*data.shape[0]))\n",
    "    train_set_size = data.shape[0] - (test_set_size)\n",
    "\n",
    "    x_train = data[:train_set_size,:-1,:]\n",
    "    y_train = data[:train_set_size,-1,:]\n",
    "    \n",
    "    x_test = data[train_set_size:,:-1]\n",
    "    y_test = data[train_set_size:,-1,:]\n",
    "\n",
    "    return [x_train, y_train, x_test, y_test]"
   ]
  },
  {
   "cell_type": "code",
   "execution_count": 11,
   "metadata": {},
   "outputs": [
    {
     "name": "stdout",
     "output_type": "stream",
     "text": [
      "x_train.shape =  (43267, 59, 1)\n",
      "y_train.shape =  (43267, 1)\n",
      "x_test.shape =  (10817, 59, 1)\n",
      "y_test.shape =  (10817, 1)\n"
     ]
    }
   ],
   "source": [
    "look_back = 60\n",
    "x_train, y_train, x_test, y_test = load_data(training_set, look_back)\n",
    "print('x_train.shape = ',x_train.shape)\n",
    "print('y_train.shape = ',y_train.shape)\n",
    "print('x_test.shape = ',x_test.shape)\n",
    "print('y_test.shape = ',y_test.shape)"
   ]
  },
  {
   "cell_type": "code",
   "execution_count": 12,
   "metadata": {},
   "outputs": [],
   "source": [
    "# make training and test sets in torch\n",
    "x_train = torch.from_numpy(x_train).type(torch.Tensor)\n",
    "x_test = torch.from_numpy(x_test).type(torch.Tensor)\n",
    "y_train = torch.from_numpy(y_train).type(torch.Tensor)\n",
    "y_test = torch.from_numpy(y_test).type(torch.Tensor)"
   ]
  },
  {
   "cell_type": "code",
   "execution_count": 13,
   "metadata": {},
   "outputs": [
    {
     "data": {
      "text/plain": [
       "(torch.Size([43267, 1]), torch.Size([43267, 59, 1]))"
      ]
     },
     "execution_count": 13,
     "metadata": {},
     "output_type": "execute_result"
    }
   ],
   "source": [
    "y_train.size(),x_train.size()"
   ]
  },
  {
   "cell_type": "code",
   "execution_count": 14,
   "metadata": {},
   "outputs": [],
   "source": [
    "# Build model\n",
    "#####################\n",
    "input_dim = 1\n",
    "hidden_dim = 16\n",
    "num_layers = 3\n",
    "output_dim = 1\n",
    "\n",
    "\n",
    "# Here we define our model as a class\n",
    "class LSTM(nn.Module):\n",
    "    def __init__(self, input_dim, hidden_dim, num_layers, output_dim):\n",
    "        super(LSTM, self).__init__()\n",
    "        # Hidden dimensions\n",
    "        self.hidden_dim = hidden_dim\n",
    "\n",
    "        # Number of hidden layers\n",
    "        self.num_layers = num_layers\n",
    "\n",
    "        # batch_first=True causes input/output tensors to be of shape\n",
    "        # (batch_dim, seq_dim, feature_dim)\n",
    "        self.lstm = nn.LSTM(input_dim, hidden_dim, num_layers, batch_first=True)\n",
    "\n",
    "        # Readout layer\n",
    "        self.fc = nn.Linear(hidden_dim, output_dim)\n",
    "\n",
    "    def forward(self, x):\n",
    "        # Initialize hidden state with zeros\n",
    "        h0 = torch.zeros(self.num_layers, x.size(0), self.hidden_dim).requires_grad_()\n",
    "\n",
    "        # Initialize cell state\n",
    "        c0 = torch.zeros(self.num_layers, x.size(0), self.hidden_dim).requires_grad_()\n",
    "\n",
    "        # We need to detach as we are doing truncated backpropagation through time (BPTT)\n",
    "        # If we don't, we'll backprop all the way to the start even after going through another batch\n",
    "        out, (hn, cn) = self.lstm(x, (h0.detach(), c0.detach()))\n",
    "\n",
    "        # Index hidden state of last time step\n",
    "        # out.size() --> 100, 32, 100\n",
    "        # out[:, -1, :] --> 100, 100 --> just want last time step hidden states! \n",
    "        out = self.fc(out[:, -1, :]) \n",
    "        # out.size() --> 100, 10\n",
    "        return out"
   ]
  },
  {
   "cell_type": "code",
   "execution_count": 15,
   "metadata": {},
   "outputs": [
    {
     "name": "stdout",
     "output_type": "stream",
     "text": [
      "LSTM(\n",
      "  (lstm): LSTM(1, 16, num_layers=3, batch_first=True, dropout=0.2)\n",
      "  (fc): Linear(in_features=16, out_features=1, bias=True)\n",
      ")\n",
      "14\n",
      "torch.Size([64, 1])\n",
      "torch.Size([64, 16])\n",
      "torch.Size([64])\n",
      "torch.Size([64])\n",
      "torch.Size([64, 16])\n",
      "torch.Size([64, 16])\n",
      "torch.Size([64])\n",
      "torch.Size([64])\n",
      "torch.Size([64, 16])\n",
      "torch.Size([64, 16])\n",
      "torch.Size([64])\n",
      "torch.Size([64])\n",
      "torch.Size([1, 16])\n",
      "torch.Size([1])\n"
     ]
    }
   ],
   "source": [
    "model = LSTM(input_dim=input_dim, hidden_dim=hidden_dim, output_dim=output_dim, num_layers=num_layers)\n",
    "\n",
    "loss_fn = torch.nn.MSELoss()\n",
    "\n",
    "optimiser = torch.optim.Adam(model.parameters(), lr=0.01)\n",
    "print(model)\n",
    "print(len(list(model.parameters())))\n",
    "for i in range(len(list(model.parameters()))):\n",
    "    print(list(model.parameters())[i].size())"
   ]
  },
  {
   "cell_type": "code",
   "execution_count": 16,
   "metadata": {},
   "outputs": [
    {
     "name": "stdout",
     "output_type": "stream",
     "text": [
      "Epoch  10 MSE:  0.21025387942790985\n",
      "Epoch  20 MSE:  0.06283639371395111\n",
      "Epoch  30 MSE:  0.09667114168405533\n",
      "Epoch  40 MSE:  0.17442375421524048\n",
      "Epoch  50 MSE:  0.11831073462963104\n",
      "Epoch  60 MSE:  0.09412864595651627\n",
      "Epoch  70 MSE:  0.0699043869972229\n",
      "Epoch  80 MSE:  0.06961352378129959\n",
      "Epoch  90 MSE:  0.06934806704521179\n"
     ]
    }
   ],
   "source": [
    "# Train model\n",
    "#####################\n",
    "num_epochs = 100\n",
    "hist = np.zeros(num_epochs)\n",
    "\n",
    "# Number of steps to unroll\n",
    "seq_dim =look_back-1  \n",
    "\n",
    "for t in range(num_epochs):\n",
    "    # Initialise hidden state\n",
    "    # Don't do this if you want your LSTM to be stateful\n",
    "    #model.hidden = model.init_hidden()\n",
    "    \n",
    "    # Forward pass\n",
    "    y_train_pred = model(x_train)\n",
    "\n",
    "    loss = loss_fn(y_train_pred, y_train)\n",
    "    if t % 10 == 0 and t !=0:\n",
    "        print(\"Epoch \", t, \"MSE: \", loss.item())\n",
    "    hist[t] = loss.item()\n",
    "\n",
    "    # Zero out gradient, else they will accumulate between epochs\n",
    "    optimiser.zero_grad()\n",
    "\n",
    "    # Backward pass\n",
    "    loss.backward()\n",
    "\n",
    "    # Update parameters\n",
    "    optimiser.step()"
   ]
  },
  {
   "cell_type": "code",
   "execution_count": 17,
   "metadata": {},
   "outputs": [
    {
     "data": {
      "image/png": "[encoded data removed]",
      "text/plain": [
       "<Figure size 640x480 with 1 Axes>"
      ]
     },
     "metadata": {},
     "output_type": "display_data"
    }
   ],
   "source": [
    "plt.plot(hist, label=\"Training loss\")\n",
    "plt.legend()\n",
    "plt.show()"
   ]
  },
  {
   "cell_type": "code",
   "execution_count": 18,
   "metadata": {},
   "outputs": [
    {
     "data": {
      "text/plain": [
       "torch.Size([43267, 1])"
      ]
     },
     "execution_count": 18,
     "metadata": {},
     "output_type": "execute_result"
    }
   ],
   "source": [
    "np.shape(y_train_pred)"
   ]
  },
  {
   "cell_type": "code",
   "execution_count": 19,
   "metadata": {},
   "outputs": [
    {
     "name": "stdout",
     "output_type": "stream",
     "text": [
      "Train Score: 623.24 RMSE\n",
      "Test Score: 1133.75 RMSE\n"
     ]
    }
   ],
   "source": [
    "# make predictions\n",
    "y_test_pred = model(x_test)\n",
    "\n",
    "# invert predictions\n",
    "y_train_pred = scaler.inverse_transform(y_train_pred.detach().numpy())\n",
    "y_train = scaler.inverse_transform(y_train.detach().numpy())\n",
    "y_test_pred = scaler.inverse_transform(y_test_pred.detach().numpy())\n",
    "y_test = scaler.inverse_transform(y_test.detach().numpy())\n",
    "\n",
    "# calculate root mean squared error\n",
    "trainScore = math.sqrt(mean_squared_error(y_train[:,0], y_train_pred[:,0]))\n",
    "print('Train Score: %.2f RMSE' % (trainScore))\n",
    "testScore = math.sqrt(mean_squared_error(y_test[:,0], y_test_pred[:,0]))\n",
    "print('Test Score: %.2f RMSE' % (testScore))"
   ]
  },
  {
   "cell_type": "code",
   "execution_count": 20,
   "metadata": {},
   "outputs": [
    {
     "data": {
      "image/png": "[encoded data removed]",
      "text/plain": [
       "<Figure size 1500x600 with 1 Axes>"
      ]
     },
     "metadata": {},
     "output_type": "display_data"
    }
   ],
   "source": [
    "# Visualising the results\n",
    "figure, axes = plt.subplots(figsize=(15, 6))\n",
    "axes.xaxis_date()\n",
    "\n",
    "axes.plot(training_set[len(training_set)-len(y_test):].index, y_test, color = 'red', label = 'Real BTC Price')\n",
    "axes.plot(training_set[len(training_set)-len(y_test):].index, y_test_pred, color = 'blue', label = 'Predicted BTC Price')\n",
    "#axes.xticks(np.arange(0,394,50))\n",
    "plt.title('BTC Price Prediction')\n",
    "plt.xlabel('Time')\n",
    "plt.ylabel('BTC Price')\n",
    "plt.legend()\n",
    "plt.savefig('btc_pred.png')\n",
    "plt.show()"
   ]
  }
 ],
 "metadata": {
  "kernelspec": {
   "display_name": "base",
   "language": "python",
   "name": "python3"
  },
  "language_info": {
   "codemirror_mode": {
    "name": "ipython",
    "version": 3
   },
   "file_extension": ".py",
   "mimetype": "text/x-python",
   "name": "python",
   "nbconvert_exporter": "python",
   "pygments_lexer": "ipython3",
   "version": "3.11.5"
  }
 },
 "nbformat": 4,
 "nbformat_minor": 2
}
